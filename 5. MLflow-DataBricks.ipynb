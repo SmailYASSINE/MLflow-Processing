{
 "cells": [
  {
   "cell_type": "code",
   "execution_count": 0,
   "metadata": {
    "application/vnd.databricks.v1+cell": {
     "cellMetadata": {
      "byteLimit": 2048000,
      "rowLimit": 10000
     },
     "inputWidgets": {},
     "nuid": "84bc428f-76af-43b0-ba5b-b9be37959a3b",
     "showTitle": false,
     "title": ""
    }
   },
   "outputs": [],
   "source": [
    "import numpy as np\n",
    "import pandas as pd\n",
    "import matplotlib #\n",
    "import matplotlib.pyplot as plt\n",
    "import seaborn as sns\n",
    "import sklearn #\n",
    "#import spark\n",
    "from sklearn.linear_model import LogisticRegression\n",
    "from sklearn.model_selection import train_test_split\n",
    "from sklearn.preprocessing import StandardScaler\n",
    "from sklearn.metrics import roc_auc_score, plot_roc_curve,confusion_matrix\n",
    "from sklearn.model_selection import KFold\n",
    "import mlflow"
   ]
  },
  {
   "cell_type": "code",
   "execution_count": 0,
   "metadata": {
    "application/vnd.databricks.v1+cell": {
     "cellMetadata": {
      "byteLimit": 2048000,
      "rowLimit": 10000
     },
     "inputWidgets": {},
     "nuid": "f91905a6-9af4-4cbd-bb6b-513e93b56016",
     "showTitle": false,
     "title": ""
    }
   },
   "outputs": [
    {
     "output_type": "stream",
     "name": "stdout",
     "output_type": "stream",
     "text": [
      "Collecting mlflow==1.20.2\r\n  Downloading mlflow-1.20.2-py3-none-any.whl (14.6 MB)\r\n\u001B[?25l\r\u001B[K     |                                | 10 kB 22.0 MB/s eta 0:00:01\r\u001B[K     |                                | 20 kB 8.4 MB/s eta 0:00:02\r\u001B[K     |                                | 30 kB 11.4 MB/s eta 0:00:02\r\u001B[K     |                                | 40 kB 4.0 MB/s eta 0:00:04\r\u001B[K     |▏                               | 51 kB 4.2 MB/s eta 0:00:04\r\u001B[K     |▏                               | 61 kB 4.9 MB/s eta 0:00:03\r\u001B[K     |▏                               | 71 kB 5.5 MB/s eta 0:00:03\r\u001B[K     |▏                               | 81 kB 6.0 MB/s eta 0:00:03\r\u001B[K     |▏                               | 92 kB 5.5 MB/s eta 0:00:03\r\u001B[K     |▎                               | 102 kB 4.9 MB/s eta 0:00:03\r\u001B[K     |▎                               | 112 kB 4.9 MB/s eta 0:00:03\r\u001B[K     |▎                               | 122 kB 4.9 MB/s eta 0:00:03\r\u001B[K     |▎                               | 133 kB 4.9 MB/s eta 0:00:03\r\u001B[K     |▎                               | 143 kB 4.9 MB/s eta 0:00:03\r\u001B[K     |▍                               | 153 kB 4.9 MB/s eta 0:00:03\r\u001B[K     |▍                               | 163 kB 4.9 MB/s eta 0:00:03\r\u001B[K     |▍                               | 174 kB 4.9 MB/s eta 0:00:03\r\u001B[K     |▍                               | 184 kB 4.9 MB/s eta 0:00:03\r\u001B[K     |▍                               | 194 kB 4.9 MB/s eta 0:00:03\r\u001B[K     |▌                               | 204 kB 4.9 MB/s eta 0:00:03\r\u001B[K     |▌                               | 215 kB 4.9 MB/s eta 0:00:03\r\u001B[K     |▌                               | 225 kB 4.9 MB/s eta 0:00:03\r\u001B[K     |▌                               | 235 kB 4.9 MB/s eta 0:00:03\r\u001B[K     |▌                               | 245 kB 4.9 MB/s eta 0:00:03\r\u001B[K     |▋                               | 256 kB 4.9 MB/s eta 0:00:03\r\u001B[K     |▋                               | 266 kB 4.9 MB/s eta 0:00:03\r\u001B[K     |▋                               | 276 kB 4.9 MB/s eta 0:00:03\r\u001B[K     |▋                               | 286 kB 4.9 MB/s eta 0:00:03\r\u001B[K     |▋                               | 296 kB 4.9 MB/s eta 0:00:03\r\u001B[K     |▊                               | 307 kB 4.9 MB/s eta 0:00:03\r\u001B[K     |▊                               | 317 kB 4.9 MB/s eta 0:00:03\r\u001B[K     |▊                               | 327 kB 4.9 MB/s eta 0:00:03\r\u001B[K     |▊                               | 337 kB 4.9 MB/s eta 0:00:03\r\u001B[K     |▊                               | 348 kB 4.9 MB/s eta 0:00:03\r\u001B[K     |▉                               | 358 kB 4.9 MB/s eta 0:00:03\r\u001B[K     |▉                               | 368 kB 4.9 MB/s eta 0:00:03\r\u001B[K     |▉                               | 378 kB 4.9 MB/s eta 0:00:03\r\u001B[K     |▉                               | 389 kB 4.9 MB/s eta 0:00:03\r\u001B[K     |▉                               | 399 kB 4.9 MB/s eta 0:00:03\r\u001B[K     |█                               | 409 kB 4.9 MB/s eta 0:00:03\r\u001B[K     |█                               | 419 kB 4.9 MB/s eta 0:00:03\r\u001B[K     |█                               | 430 kB 4.9 MB/s eta 0:00:03\r\u001B[K     |█                               | 440 kB 4.9 MB/s eta 0:00:03\r\u001B[K     |█                               | 450 kB 4.9 MB/s eta 0:00:03\r\u001B[K     |█                               | 460 kB 4.9 MB/s eta 0:00:03\r\u001B[K     |█                               | 471 kB 4.9 MB/s eta 0:00:03\r\u001B[K     |█                               | 481 kB 4.9 MB/s eta 0:00:03\r\u001B[K     |█                               | 491 kB 4.9 MB/s eta 0:00:03\r\u001B[K     |█                               | 501 kB 4.9 MB/s eta 0:00:03\r\u001B[K     |█▏                              | 512 kB 4.9 MB/s eta 0:00:03\r\u001B[K     |█▏                              | 522 kB 4.9 MB/s eta 0:00:03\r\u001B[K     |█▏                              | 532 kB 4.9 MB/s eta 0:00:03\r\u001B[K     |█▏                              | 542 kB 4.9 MB/s eta 0:00:03\r\u001B[K     |█▏                              | 552 kB 4.9 MB/s eta 0:00:03\r\u001B[K     |█▎                              | 563 kB 4.9 MB/s eta 0:00:03\r\u001B[K     |█▎                              | 573 kB 4.9 MB/s eta 0:00:03\r\u001B[K     |█▎                              | 583 kB 4.9 MB/s eta 0:00:03\r\u001B[K     |█▎                              | 593 kB 4.9 MB/s eta 0:00:03\r\u001B[K     |█▎                              | 604 kB 4.9 MB/s eta 0:00:03\r\u001B[K     |█▍                              | 614 kB 4.9 MB/s eta 0:00:03\r\u001B[K     |█▍                              | 624 kB 4.9 MB/s eta 0:00:03\r\u001B[K     |█▍                              | 634 kB 4.9 MB/s eta 0:00:03\r\u001B[K     |█▍                              | 645 kB 4.9 MB/s eta 0:00:03\r\u001B[K     |█▍                              | 655 kB 4.9 MB/s eta 0:00:03\r\u001B[K     |█▌                              | 665 kB 4.9 MB/s eta 0:00:03\r\u001B[K     |█▌                              | 675 kB 4.9 MB/s eta 0:00:03\r\u001B[K     |█▌                              | 686 kB 4.9 MB/s eta 0:00:03\r\u001B[K     |█▌                              | 696 kB 4.9 MB/s eta 0:00:03\r\u001B[K     |█▌                              | 706 kB 4.9 MB/s eta 0:00:03\r\u001B[K     |█▋                              | 716 kB 4.9 MB/s eta 0:00:03\r\u001B[K     |█▋                              | 727 kB 4.9 MB/s eta 0:00:03\r\u001B[K     |█▋                              | 737 kB 4.9 MB/s eta 0:00:03\r\u001B[K     |█▋                              | 747 kB 4.9 MB/s eta 0:00:03\r\u001B[K     |█▋                              | 757 kB 4.9 MB/s eta 0:00:03\r\u001B[K     |█▊                              | 768 kB 4.9 MB/s eta 0:00:03\r\u001B[K     |█▊                              | 778 kB 4.9 MB/s eta 0:00:03\r\u001B[K     |█▊                              | 788 kB 4.9 MB/s eta 0:00:03\r\u001B[K     |█▊                              | 798 kB 4.9 MB/s eta 0:00:03\r\u001B[K     |█▊                              | 808 kB 4.9 MB/s eta 0:00:03\r\u001B[K     |█▉                              | 819 kB 4.9 MB/s eta 0:00:03\r\u001B[K     |█▉                              | 829 kB 4.9 MB/s eta 0:00:03\r\u001B[K     |█▉                              | 839 kB 4.9 MB/s eta 0:00:03\r\u001B[K     |█▉                              | 849 kB 4.9 MB/s eta 0:00:03\r\u001B[K     |█▉                              | 860 kB 4.9 MB/s eta 0:00:03\r\u001B[K     |██                              | 870 kB 4.9 MB/s eta 0:00:03\r\u001B[K     |██                              | 880 kB 4.9 MB/s eta 0:00:03\r\u001B[K     |██                              | 890 kB 4.9 MB/s eta 0:00:03\r\u001B[K     |██                              | 901 kB 4.9 MB/s eta 0:00:03\r\u001B[K     |██                              | 911 kB 4.9 MB/s eta 0:00:03\r\u001B[K     |██                              | 921 kB 4.9 MB/s eta 0:00:03\r\u001B[K     |██                              | 931 kB 4.9 MB/s eta 0:00:03\r\u001B[K     |██                              | 942 kB 4.9 MB/s eta 0:00:03\r\u001B[K     |██                              | 952 kB 4.9 MB/s eta 0:00:03\r\u001B[K     |██                              | 962 kB 4.9 MB/s eta 0:00:03\r\u001B[K     |██▏                             | 972 kB 4.9 MB/s eta 0:00:03\r\u001B[K     |██▏                             | 983 kB 4.9 MB/s eta 0:00:03\r\u001B[K     |██▏                             | 993 kB 4.9 MB/s eta 0:00:03\r\u001B[K     |██▏                             | 1.0 MB 4.9 MB/s eta 0:00:03\r\u001B[K     |██▏                             | 1.0 MB 4.9 MB/s eta 0:00:03\r\u001B[K     |██▎                             | 1.0 MB 4.9 MB/s eta 0:00:03\r\u001B[K     |██▎                             | 1.0 MB 4.9 MB/s eta 0:00:03\r\u001B[K     |██▎                             | 1.0 MB 4.9 MB/s eta 0:00:03\r\u001B[K     |██▎                             | 1.1 MB 4.9 MB/s eta 0:00:03\r\u001B[K     |██▎                             | 1.1 MB 4.9 MB/s eta 0:00:03\r\u001B[K     |██▍                             | 1.1 MB 4.9 MB/s eta 0:00:03\r\u001B[K     |██▍                             | 1.1 MB 4.9 MB/s eta 0:00:03\r\u001B[K     |██▍                             | 1.1 MB 4.9 MB/s eta 0:00:03\r\u001B[K     |██▍                             | 1.1 MB 4.9 MB/s eta 0:00:03\r\u001B[K     |██▍                             | 1.1 MB 4.9 MB/s eta 0:00:03\r\u001B[K     |██▌                             | 1.1 MB 4.9 MB/s eta 0:00:03\r\u001B[K     |██▌                             | 1.1 MB 4.9 MB/s eta 0:00:03\r\u001B[K     |██▌                             | 1.1 MB 4.9 MB/s eta 0:00:03\r\u001B[K     |██▌                             | 1.2 MB 4.9 MB/s eta 0:00:03\r\u001B[K     |██▌                             | 1.2 MB 4.9 MB/s eta 0:00:03\r\u001B[K     |██▋                             | 1.2 MB 4.9 MB/s eta 0:00:03\r\u001B[K     |██▋                             | 1.2 MB 4.9 MB/s eta 0:00:03\r\u001B[K     |██▋                             | 1.2 MB 4.9 MB/s eta 0:00:03\r\u001B[K     |██▋                             | 1.2 MB 4.9 MB/s eta 0:00:03\r\u001B[K     |██▋                             | 1.2 MB 4.9 MB/s eta 0:00:03\r\u001B[K     |██▊                             | 1.2 MB 4.9 MB/s eta 0:00:03\r\u001B[K     |██▊                             | 1.2 MB 4.9 MB/s eta 0:00:03\r\u001B[K     |██▊                             | 1.2 MB 4.9 MB/s eta 0:00:03\r\u001B[K     |██▊                             | 1.3 MB 4.9 MB/s eta 0:00:03\r\u001B[K     |██▊                             | 1.3 MB 4.9 MB/s eta 0:00:03\r\u001B[K     |██▉                             | 1.3 MB 4.9 MB/s eta 0:00:03\r\u001B[K     |██▉                             | 1.3 MB 4.9 MB/s eta 0:00:03\r\u001B[K     |██▉                             | 1.3 MB 4.9 MB/s eta 0:00:03\r\u001B[K     |██▉                             | 1.3 MB 4.9 MB/s eta 0:00:03\r\u001B[K     |███                             | 1.3 MB 4.9 MB/s eta 0:00:03\r\u001B[K     |███                             | 1.3 MB 4.9 MB/s eta 0:00:03\r\u001B[K     |███                             | 1.3 MB 4.9 MB/s eta 0:00:03\r\u001B[K     |███                             | 1.4 MB 4.9 MB/s eta 0:00:03\r\u001B[K     |███                             | 1.4 MB 4.9 MB/s eta 0:00:03\r\u001B[K     |███                             | 1.4 MB 4.9 MB/s eta 0:00:03\r\u001B[K     |███                             | 1.4 MB 4.9 MB/s eta 0:00:03\r\u001B[K     |███                             | 1.4 MB 4.9 MB/s eta 0:00:03\r\u001B[K     |███                             | 1.4 MB 4.9 MB/s eta 0:00:03\r\u001B[K     |███                             | 1.4 MB 4.9 MB/s eta 0:00:03\r\u001B[K     |███▏                            | 1.4 MB 4.9 MB/s eta 0:00:03\r\u001B[K     |███▏                            | 1.4 MB 4.9 MB/s eta 0:00:03\r\u001B[K     |███▏                            | 1.4 MB 4.9 MB/s eta 0:00:03\r\u001B[K     |███▏                            | 1.5 MB 4.9 MB/s eta 0:00:03\r\u001B[K     |███▏                            | 1.5 MB 4.9 MB/s eta 0:00:03\r\u001B[K     |███▎                            | 1.5 MB 4.9 MB/s eta 0:00:03\r\u001B[K     |███▎                            | 1.5 MB 4.9 MB/s eta 0:00:03\r\u001B[K     |███▎                            | 1.5 MB 4.9 MB/s eta 0:00:03\r\u001B[K     |███▎                            | 1.5 MB 4.9 MB/s eta 0:00:03\r\u001B[K     |███▎                            | 1.5 MB 4.9 MB/s eta 0:00:03\r\u001B[K     |███▍                            | 1.5 MB 4.9 MB/s eta 0:00:03\r\u001B[K     |███▍                            | 1.5 MB 4.9 MB/s eta 0:00:03\r\u001B[K     |███▍                            | 1.5 MB 4.9 MB/s eta 0:00:03\r\u001B[K     |███▍                            | 1.6 MB 4.9 MB/s eta 0:00:03\r\u001B[K     |███▍                            | 1.6 MB 4.9 MB/s eta 0:00:03\r\u001B[K     |███▌                            | 1.6 MB 4.9 MB/s eta 0:00:03\r\u001B[K     |███▌                            | 1.6 MB 4.9 MB/s eta 0:00:03\r\u001B[K     |███▌                            | 1.6 MB 4.9 MB/s eta 0:00:03\r\u001B[K     |███▌                            | 1.6 MB 4.9 MB/s eta 0:00:03\r\u001B[K     |███▌                            | 1.6 MB 4.9 MB/s eta 0:00:03\r\u001B[K     |███▋                            | 1.6 MB 4.9 MB/s eta 0:00:03\r\u001B[K     |███▋                            | 1.6 MB 4.9 MB/s eta 0:00:03\r\u001B[K     |███▋                            | 1.6 MB 4.9 MB/s eta 0:00:03\r\u001B[K     |███▋                            | 1.7 MB 4.9 MB/s eta 0:00:03\r\u001B[K     |███▋                            | 1.7 MB 4.9 MB/s eta 0:00:03\r\u001B[K     |███▊                            | 1.7 MB 4.9 MB/s eta 0:00:03\r\u001B[K     |███▊                            | 1.7 MB 4.9 MB/s eta 0:00:03\r\u001B[K     |███▊                            | 1.7 MB 4.9 MB/s eta 0:00:03\r\u001B[K     |███▊                            | 1.7 MB 4.9 MB/s eta 0:00:03\r\u001B[K     |███▊                            | 1.7 MB 4.9 MB/s eta 0:00:03\r\u001B[K     |███▉                            | 1.7 MB 4.9 MB/s eta 0:00:03\r\u001B[K     |███▉                            | 1.7 MB 4.9 MB/s eta 0:00:03\r\u001B[K     |███▉                            | 1.8 MB 4.9 MB/s eta 0:00:03\r\u001B[K     |███▉                            | 1.8 MB 4.9 MB/s eta 0:00:03\r\u001B[K     |███▉                            | 1.8 MB 4.9 MB/s eta 0:00:03\r\u001B[K     |████                            | 1.8 MB 4.9 MB/s eta 0:00:03\r\u001B[K     |████                            | 1.8 MB 4.9 MB/s eta 0:00:03\r\u001B[K     |████                            | 1.8 MB 4.9 MB/s eta 0:00:03\r\u001B[K     |████                            | 1.8 MB 4.9 MB/s eta 0:00:03\r\u001B[K     |████                            | 1.8 MB 4.9 MB/s eta 0:00:03\r\u001B[K     |████                            | 1.8 MB 4.9 MB/s eta 0:00:03\r\u001B[K     |████                            | 1.8 MB 4.9 MB/s eta 0:00:03\r\u001B[K     |████                            | 1.9 MB 4.9 MB/s eta 0:00:03\r\u001B[K     |████                            | 1.9 MB 4.9 MB/s eta 0:00:03\r\u001B[K     |████                            | 1.9 MB 4.9 MB/s eta 0:00:03\r\u001B[K     |████▏                           | 1.9 MB 4.9 MB/s eta 0:00:03\r\u001B[K     |████▏                           | 1.9 MB 4.9 MB/s eta 0:00:03\r\u001B[K     |████▏                           | 1.9 MB 4.9 MB/s eta 0:00:03\r\u001B[K     |████▏                           | 1.9 MB 4.9 MB/s eta 0:00:03\r\u001B[K     |████▏                           | 1.9 MB 4.9 MB/s eta 0:00:03\r\u001B[K     |████▎                           | 1.9 MB 4.9 MB/s eta 0:00:03\r\u001B[K     |████▎                           | 1.9 MB 4.9 MB/s eta 0:00:03\r\u001B[K     |████▎                           | 2.0 MB 4.9 MB/s eta 0:00:03\r\u001B[K     |████▎                           | 2.0 MB 4.9 MB/s eta 0:00:03\r\u001B[K     |████▎                           | 2.0 MB 4.9 MB/s eta 0:00:03\r\u001B[K     |████▍                           | 2.0 MB 4.9 MB/s eta 0:00:03\r\u001B[K     |████▍                           | 2.0 MB 4.9 MB/s eta 0:00:03\r\u001B[K     |████▍                           | 2.0 MB 4.9 MB/s eta 0:00:03\r\u001B[K     |████▍                           | 2.0 MB 4.9 MB/s eta 0:00:03\r\u001B[K     |████▍                           | 2.0 MB 4.9 MB/s eta 0:00:03\r\u001B[K     |████▌                           | 2.0 MB 4.9 MB/s eta 0:00:03\r\u001B[K     |████▌                           | 2.0 MB 4.9 MB/s eta 0:00:03\r\u001B[K     |████▌                           | 2.1 MB 4.9 MB/s eta 0:00:03\r\u001B[K     |████▌                           | 2.1 MB 4.9 MB/s eta 0:00:03\r\u001B[K     |████▌                           | 2.1 MB 4.9 MB/s eta 0:00:03\r\u001B[K     |████▋                           | 2.1 MB 4.9 MB/s eta 0:00:03\r\u001B[K     |████▋                           | 2.1 MB 4.9 MB/s eta 0:00:03\r\u001B[K     |████▋                           | 2.1 MB 4.9 MB/s eta 0:00:03\r\u001B[K     |████▋                           | 2.1 MB 4.9 MB/s eta 0:00:03\r\u001B[K     |████▋                           | 2.1 MB 4.9 MB/s eta 0:00:03\r\u001B[K     |████▊                           | 2.1 MB 4.9 MB/s eta 0:00:03\r\u001B[K     |████▊                           | 2.2 MB 4.9 MB/s eta 0:00:03\r\u001B[K     |████▊                           | 2.2 MB 4.9 MB/s eta 0:00:03\r\u001B[K     |████▊                           | 2.2 MB 4.9 MB/s eta 0:00:03\r\u001B[K     |████▊                           | 2.2 MB 4.9 MB/s eta 0:00:03\r\u001B[K     |████▉                           | 2.2 MB 4.9 MB/s eta 0:00:03\r\u001B[K     |████▉                           | 2.2 MB 4.9 MB/s eta 0:00:03\r\u001B[K     |████▉                           | 2.2 MB 4.9 MB/s eta 0:00:03\r\u001B[K     |████▉                           | 2.2 MB 4.9 MB/s eta 0:00:03\r\u001B[K     |████▉                           | 2.2 MB 4.9 MB/s eta 0:00:03\r\u001B[K     |█████                           | 2.2 MB 4.9 MB/s eta 0:00:03\r\u001B[K     |█████                           | 2.3 MB 4.9 MB/s eta 0:00:03\r\u001B[K     |█████                           | 2.3 MB 4.9 MB/s eta 0:00:03\r\u001B[K     |█████                           | 2.3 MB 4.9 MB/s eta 0:00:03\r\u001B[K     |█████                           | 2.3 MB 4.9 MB/s eta 0:00:03\r\u001B[K     |█████                           | 2.3 MB 4.9 MB/s eta 0:00:03\r\u001B[K     |█████                           | 2.3 MB 4.9 MB/s eta 0:00:03\r\u001B[K     |█████                           | 2.3 MB 4.9 MB/s eta 0:00:03\r\u001B[K     |█████                           | 2.3 MB 4.9 MB/s eta 0:00:03\r\u001B[K     |█████                           | 2.3 MB 4.9 MB/s eta 0:00:03\r\u001B[K     |█████▏                          | 2.3 MB 4.9 MB/s eta 0:00:03\r\u001B[K     |█████▏                          | 2.4 MB 4.9 MB/s eta 0:00:03\r\u001B[K     |█████▏                          | 2.4 MB 4.9 MB/s eta 0:00:03\r\u001B[K     |█████▏                          | 2.4 MB 4.9 MB/s eta 0:00:03\r\u001B[K     |█████▏                          | 2.4 MB 4.9 MB/s eta 0:00:03\r\u001B[K     |█████▎                          | 2.4 MB 4.9 MB/s eta 0:00:03\r\u001B[K     |█████▎                          | 2.4 MB 4.9 MB/s eta 0:00:03\r\u001B[K     |█████▎                          | 2.4 MB 4.9 MB/s eta 0:00:03\r\u001B[K     |█████▎                          | 2.4 MB 4.9 MB/s eta 0:00:03\r\u001B[K     |█████▎                          | 2.4 MB 4.9 MB/s eta 0:00:03\r\u001B[K     |█████▍                          | 2.4 MB 4.9 MB/s eta 0:00:03\r\u001B[K     |█████▍                          | 2.5 MB 4.9 MB/s eta 0:00:03\r\u001B[K     |█████▍                          | 2.5 MB 4.9 MB/s eta 0:00:03\r\u001B[K     |█████▍                          | 2.5 MB 4.9 MB/s eta 0:00:03\r\u001B[K     |█████▍                          | 2.5 MB 4.9 MB/s eta 0:00:03\r\u001B[K     |█████▌                          | 2.5 MB 4.9 MB/s eta 0:00:03\r\u001B[K     |█████▌                          | 2.5 MB 4.9 MB/s eta 0:00:03\r\u001B[K     |█████▌                          | 2.5 MB 4.9 MB/s eta 0:00:03\r\u001B[K     |█████▌                          | 2.5 MB 4.9 MB/s eta 0:00:03\r\u001B[K     |█████▌                          | 2.5 MB 4.9 MB/s eta 0:00:03\r\u001B[K     |█████▋                          | 2.5 MB 4.9 MB/s eta 0:00:03\r\u001B[K     |█████▋                          | 2.6 MB 4.9 MB/s eta 0:00:03\r\u001B[K     |█████▋                          | 2.6 MB 4.9 MB/s eta 0:00:03\r\u001B[K     |█████▋                          | 2.6 MB 4.9 MB/s eta 0:00:03\r\u001B[K     |█████▊                          | 2.6 MB 4.9 MB/s eta 0:00:03\r\u001B[K     |█████▊                          | 2.6 MB 4.9 MB/s eta 0:00:03\r\u001B[K     |█████▊                          | 2.6 MB 4.9 MB/s eta 0:00:03\r\u001B[K     |█████▊                          | 2.6 MB 4.9 MB/s eta 0:00:03\r\u001B[K     |█████▊                          | 2.6 MB 4.9 MB/s eta 0:00:03\r\u001B[K     |█████▉                          | 2.6 MB 4.9 MB/s eta 0:00:03\r\u001B[K     |█████▉                          | 2.7 MB 4.9 MB/s eta 0:00:03\r\u001B[K     |█████▉                          | 2.7 MB 4.9 MB/s eta 0:00:03\r\u001B[K     |█████▉                          | 2.7 MB 4.9 MB/s eta 0:00:03\r\u001B[K     |█████▉                          | 2.7 MB 4.9 MB/s eta 0:00:03\r\u001B[K     |██████                          | 2.7 MB 4.9 MB/s eta 0:00:03\r\u001B[K     |██████                          | 2.7 MB 4.9 MB/s eta 0:00:03\r\u001B[K     |██████                          | 2.7 MB 4.9 MB/s eta 0:00:03\r\u001B[K     |██████                          | 2.7 MB 4.9 MB/s eta 0:00:03\r\u001B[K     |██████                          | 2.7 MB 4.9 MB/s eta 0:00:03\r\u001B[K     |██████                          | 2.7 MB 4.9 MB/s eta 0:00:03\r\u001B[K     |██████                          | 2.8 MB 4.9 MB/s eta 0:00:03\r\u001B[K     |██████                          | 2.8 MB 4.9 MB/s eta 0:00:03\r\u001B[K     |██████                          | 2.8 MB 4.9 MB/s eta 0:00:03\r\u001B[K     |██████                          | 2.8 MB 4.9 MB/s eta 0:00:03\r\u001B[K     |██████▏                         | 2.8 MB 4.9 MB/s eta 0:00:03\r\u001B[K     |██████▏                         | 2.8 MB 4.9 MB/s eta 0:00:03\r\u001B[K     |██████▏                         | 2.8 MB 4.9 MB/s eta 0:00:03\r\u001B[K     |██████▏                         | 2.8 MB 4.9 MB/s eta 0:00:03\r\u001B[K     |██████▏                         | 2.8 MB 4.9 MB/s eta 0:00:03\r\u001B[K     |██████▎                         | 2.8 MB 4.9 MB/s eta 0:00:03\r\u001B[K     |██████▎                         | 2.9 MB 4.9 MB/s eta 0:00:03\r\u001B[K     |██████▎                         | 2.9 MB 4.9 MB/s eta 0:00:03\r\u001B[K     |██████▎                         | 2.9 MB 4.9 MB/s eta 0:00:03\r\u001B[K     |██████▎                         | 2.9 MB 4.9 MB/s eta 0:00:03\r\u001B[K     |██████▍                         | 2.9 MB 4.9 MB/s eta 0:00:03\r\u001B[K     |██████▍                         | 2.9 MB 4.9 MB/s eta 0:00:03\r\u001B[K     |██████▍                         | 2.9 MB 4.9 MB/s eta 0:00:03\r\u001B[K     |██████▍                         | 2.9 MB 4.9 MB/s eta 0:00:03\r\u001B[K     |██████▍                         | 2.9 MB 4.9 MB/s eta 0:00:03\r\u001B[K     |██████▌                         | 2.9 MB 4.9 MB/s eta 0:00:03\r\u001B[K     |██████▌                         | 3.0 MB 4.9 MB/s eta 0:00:03\r\u001B[K     |██████▌                         | 3.0 MB 4.9 MB/s eta 0:00:03\r\u001B[K     |██████▌                         | 3.0 MB 4.9 MB/s eta 0:00:03\r\u001B[K     |██████▌                         | 3.0 MB 4.9 MB/s eta 0:00:03\r\u001B[K     |██████▋                         | 3.0 MB 4.9 MB/s eta 0:00:03\r\u001B[K     |██████▋                         | 3.0 MB 4.9 MB/s eta 0:00:03\r\u001B[K     |██████▋                         | 3.0 MB 4.9 MB/s eta 0:00:03\r\u001B[K     |██████▋                         | 3.0 MB 4.9 MB/s eta 0:00:03\r\u001B[K     |██████▋                         | 3.0 MB 4.9 MB/s eta 0:00:03\r\u001B[K     |██████▊                         | 3.1 MB 4.9 MB/s eta 0:00:03\r\u001B[K     |██████▊                         | 3.1 MB 4.9 MB/s eta 0:00:03\r\u001B[K     |██████▊                         | 3.1 MB 4.9 MB/s eta 0:00:03\r\u001B[K     |██████▊                         | 3.1 MB 4.9 MB/s eta 0:00:03\r\u001B[K     |██████▊                         | 3.1 MB 4.9 MB/s eta 0:00:03\r\u001B[K     |██████▉                         | 3.1 MB 4.9 MB/s eta 0:00:03\r\u001B[K     |██████▉                         | 3.1 MB 4.9 MB/s eta 0:00:03\r\u001B[K     |██████▉                         | 3.1 MB 4.9 MB/s eta 0:00:03\r\u001B[K     |██████▉                         | 3.1 MB 4.9 MB/s eta 0:00:03\r\u001B[K     |██████▉                         | 3.1 MB 4.9 MB/s eta 0:00:03\r\u001B[K     |███████                         | 3.2 MB 4.9 MB/s eta 0:00:03\r\u001B[K     |███████                         | 3.2 MB 4.9 MB/s eta 0:00:03\r\u001B[K     |███████                         | 3.2 MB 4.9 MB/s eta 0:00:03\r\u001B[K     |███████                         | 3.2 MB 4.9 MB/s eta 0:00:03\r\u001B[K     |███████                         | 3.2 MB 4.9 MB/s eta 0:00:03\r\u001B[K     |███████                         | 3.2 MB 4.9 MB/s eta 0:00:03\r\u001B[K     |███████                         | 3.2 MB 4.9 MB/s eta 0:00:03\r\u001B[K     |███████                         | 3.2 MB 4.9 MB/s eta 0:00:03\r\u001B[K     |███████                         | 3.2 MB 4.9 MB/s eta 0:00:03\r\u001B[K     |███████                         | 3.2 MB 4.9 MB/s eta 0:00:03\r\u001B[K     |███████▏                        | 3.3 MB 4.9 MB/s eta 0:00:03\r\u001B[K     |███████▏                        | 3.3 MB 4.9 MB/s eta 0:00:03\r\u001B[K     |███████▏                        | 3.3 MB 4.9 MB/s eta 0:00:03\r\u001B[K     |███████▏                        | 3.3 MB 4.9 MB/s eta 0:00:03\r\u001B[K     |███████▏                        | 3.3 MB 4.9 MB/s eta 0:00:03\r\u001B[K     |███████▎                        | 3.3 MB 4.9 MB/s eta 0:00:03\r\u001B[K     |███████▎                        | 3.3 MB 4.9 MB/s eta 0:00:03\r\u001B[K     |███████▎                        | 3.3 MB 4.9 MB/s eta 0:00:03\r\u001B[K     |███████▎                        | 3.3 MB 4.9 MB/s eta 0:00:03\r\u001B[K     |███████▎                        | 3.3 MB 4.9 MB/s eta 0:00:03\r\u001B[K     |███████▍                        | 3.4 MB 4.9 MB/s eta 0:00:03\r\u001B[K     |███████▍                        | 3.4 MB 4.9 MB/s eta 0:00:03\r\u001B[K     |███████▍                        | 3.4 MB 4.9 MB/s eta 0:00:03\r\u001B[K     |███████▍                        | 3.4 MB 4.9 MB/s eta 0:00:03\r\u001B[K     |███████▍                        | 3.4 MB 4.9 MB/s eta 0:00:03\r\u001B[K     |███████▌                        | 3.4 MB 4.9 MB/s eta 0:00:03\r\u001B[K     |███████▌                        | 3.4 MB 4.9 MB/s eta 0:00:03\r\u001B[K     |███████▌                        | 3.4 MB 4.9 MB/s eta 0:00:03\r\u001B[K     |███████▌                        | 3.4 MB 4.9 MB/s eta 0:00:03\r\u001B[K     |███████▌                        | 3.5 MB 4.9 MB/s eta 0:00:03\r\u001B[K     |███████▋                        | 3.5 MB 4.9 MB/s eta 0:00:03\r\u001B[K     |███████▋                        | 3.5 MB 4.9 MB/s eta 0:00:03\r\u001B[K     |███████▋                        | 3.5 MB 4.9 MB/s eta 0:00:03\r\u001B[K     |███████▋                        | 3.5 MB 4.9 MB/s eta 0:00:03\r\u001B[K     |███████▋                        | 3.5 MB 4.9 MB/s eta 0:00:03\r\u001B[K     |███████▊                        | 3.5 MB 4.9 MB/s eta 0:00:03\r\u001B[K     |███████▊                        | 3.5 MB 4.9 MB/s eta 0:00:03\r\u001B[K     |███████▊                        | 3.5 MB 4.9 MB/s eta 0:00:03\r\u001B[K     |███████▊                        | 3.5 MB 4.9 MB/s eta 0:00:03\r\u001B[K     |███████▊                        | 3.6 MB 4.9 MB/s eta 0:00:03\r\u001B[K     |███████▉                        | 3.6 MB 4.9 MB/s eta 0:00:03\r\u001B[K     |███████▉                        | 3.6 MB 4.9 MB/s eta 0:00:03\r\u001B[K     |███████▉                        | 3.6 MB 4.9 MB/s eta 0:00:03\r\u001B[K     |███████▉                        | 3.6 MB 4.9 MB/s eta 0:00\n\n*** WARNING: max output size exceeded, skipping output. ***\n\nkB 38.9 MB/s eta 0:00:01\r\u001B[K     |█▊                              | 40 kB 42.4 MB/s eta 0:00:01\r\u001B[K     |██▏                             | 51 kB 45.4 MB/s eta 0:00:01\r\u001B[K     |██▋                             | 61 kB 47.9 MB/s eta 0:00:01\r\u001B[K     |███                             | 71 kB 50.2 MB/s eta 0:00:01\r\u001B[K     |███▌                            | 81 kB 51.6 MB/s eta 0:00:01\r\u001B[K     |████                            | 92 kB 53.6 MB/s eta 0:00:01\r\u001B[K     |████▍                           | 102 kB 54.5 MB/s eta 0:00:01\r\u001B[K     |████▉                           | 112 kB 54.5 MB/s eta 0:00:01\r\u001B[K     |█████▎                          | 122 kB 54.5 MB/s eta 0:00:01\r\u001B[K     |█████▊                          | 133 kB 54.5 MB/s eta 0:00:01\r\u001B[K     |██████▏                         | 143 kB 54.5 MB/s eta 0:00:01\r\u001B[K     |██████▋                         | 153 kB 54.5 MB/s eta 0:00:01\r\u001B[K     |███████                         | 163 kB 54.5 MB/s eta 0:00:01\r\u001B[K     |███████▌                        | 174 kB 54.5 MB/s eta 0:00:01\r\u001B[K     |████████                        | 184 kB 54.5 MB/s eta 0:00:01\r\u001B[K     |████████▍                       | 194 kB 54.5 MB/s eta 0:00:01\r\u001B[K     |████████▉                       | 204 kB 54.5 MB/s eta 0:00:01\r\u001B[K     |█████████▎                      | 215 kB 54.5 MB/s eta 0:00:01\r\u001B[K     |█████████▊                      | 225 kB 54.5 MB/s eta 0:00:01\r\u001B[K     |██████████▏                     | 235 kB 54.5 MB/s eta 0:00:01\r\u001B[K     |██████████▋                     | 245 kB 54.5 MB/s eta 0:00:01\r\u001B[K     |███████████                     | 256 kB 54.5 MB/s eta 0:00:01\r\u001B[K     |███████████▌                    | 266 kB 54.5 MB/s eta 0:00:01\r\u001B[K     |████████████                    | 276 kB 54.5 MB/s eta 0:00:01\r\u001B[K     |████████████▍                   | 286 kB 54.5 MB/s eta 0:00:01\r\u001B[K     |████████████▉                   | 296 kB 54.5 MB/s eta 0:00:01\r\u001B[K     |█████████████▎                  | 307 kB 54.5 MB/s eta 0:00:01\r\u001B[K     |█████████████▊                  | 317 kB 54.5 MB/s eta 0:00:01\r\u001B[K     |██████████████▏                 | 327 kB 54.5 MB/s eta 0:00:01\r\u001B[K     |██████████████▋                 | 337 kB 54.5 MB/s eta 0:00:01\r\u001B[K     |███████████████                 | 348 kB 54.5 MB/s eta 0:00:01\r\u001B[K     |███████████████▌                | 358 kB 54.5 MB/s eta 0:00:01\r\u001B[K     |████████████████                | 368 kB 54.5 MB/s eta 0:00:01\r\u001B[K     |████████████████▍               | 378 kB 54.5 MB/s eta 0:00:01\r\u001B[K     |████████████████▉               | 389 kB 54.5 MB/s eta 0:00:01\r\u001B[K     |█████████████████▎              | 399 kB 54.5 MB/s eta 0:00:01\r\u001B[K     |█████████████████▊              | 409 kB 54.5 MB/s eta 0:00:01\r\u001B[K     |██████████████████▏             | 419 kB 54.5 MB/s eta 0:00:01\r\u001B[K     |██████████████████▋             | 430 kB 54.5 MB/s eta 0:00:01\r\u001B[K     |███████████████████             | 440 kB 54.5 MB/s eta 0:00:01\r\u001B[K     |███████████████████▌            | 450 kB 54.5 MB/s eta 0:00:01\r\u001B[K     |████████████████████            | 460 kB 54.5 MB/s eta 0:00:01\r\u001B[K     |████████████████████▍           | 471 kB 54.5 MB/s eta 0:00:01\r\u001B[K     |████████████████████▉           | 481 kB 54.5 MB/s eta 0:00:01\r\u001B[K     |█████████████████████▎          | 491 kB 54.5 MB/s eta 0:00:01\r\u001B[K     |█████████████████████▊          | 501 kB 54.5 MB/s eta 0:00:01\r\u001B[K     |██████████████████████▏         | 512 kB 54.5 MB/s eta 0:00:01\r\u001B[K     |██████████████████████▋         | 522 kB 54.5 MB/s eta 0:00:01\r\u001B[K     |███████████████████████         | 532 kB 54.5 MB/s eta 0:00:01\r\u001B[K     |███████████████████████▌        | 542 kB 54.5 MB/s eta 0:00:01\r\u001B[K     |████████████████████████        | 552 kB 54.5 MB/s eta 0:00:01\r\u001B[K     |████████████████████████▍       | 563 kB 54.5 MB/s eta 0:00:01\r\u001B[K     |████████████████████████▉       | 573 kB 54.5 MB/s eta 0:00:01\r\u001B[K     |█████████████████████████▎      | 583 kB 54.5 MB/s eta 0:00:01\r\u001B[K     |█████████████████████████▊      | 593 kB 54.5 MB/s eta 0:00:01\r\u001B[K     |██████████████████████████▏     | 604 kB 54.5 MB/s eta 0:00:01\r\u001B[K     |██████████████████████████▋     | 614 kB 54.5 MB/s eta 0:00:01\r\u001B[K     |███████████████████████████     | 624 kB 54.5 MB/s eta 0:00:01\r\u001B[K     |███████████████████████████▌    | 634 kB 54.5 MB/s eta 0:00:01\r\u001B[K     |████████████████████████████    | 645 kB 54.5 MB/s eta 0:00:01\r\u001B[K     |████████████████████████████▍   | 655 kB 54.5 MB/s eta 0:00:01\r\u001B[K     |████████████████████████████▉   | 665 kB 54.5 MB/s eta 0:00:01\r\u001B[K     |█████████████████████████████▎  | 675 kB 54.5 MB/s eta 0:00:01\r\u001B[K     |█████████████████████████████▊  | 686 kB 54.5 MB/s eta 0:00:01\r\u001B[K     |██████████████████████████████▏ | 696 kB 54.5 MB/s eta 0:00:01\r\u001B[K     |██████████████████████████████▋ | 706 kB 54.5 MB/s eta 0:00:01\r\u001B[K     |███████████████████████████████ | 716 kB 54.5 MB/s eta 0:00:01\r\u001B[K     |███████████████████████████████▌| 727 kB 54.5 MB/s eta 0:00:01\r\u001B[K     |████████████████████████████████| 737 kB 54.5 MB/s eta 0:00:01\r\u001B[K     |████████████████████████████████| 738 kB 54.5 MB/s \r\n\u001B[?25hCollecting gitpython>=2.1.0\r\n  Downloading GitPython-3.1.40-py3-none-any.whl (190 kB)\r\n\u001B[?25l\r\u001B[K     |█▊                              | 10 kB 9.1 MB/s eta 0:00:01\r\u001B[K     |███▍                            | 20 kB 14.0 MB/s eta 0:00:01\r\u001B[K     |█████▏                          | 30 kB 17.4 MB/s eta 0:00:01\r\u001B[K     |██████▉                         | 40 kB 18.6 MB/s eta 0:00:01\r\u001B[K     |████████▋                       | 51 kB 20.5 MB/s eta 0:00:01\r\u001B[K     |██████████▎                     | 61 kB 22.0 MB/s eta 0:00:01\r\u001B[K     |████████████                    | 71 kB 23.3 MB/s eta 0:00:01\r\u001B[K     |█████████████▊                  | 81 kB 24.2 MB/s eta 0:00:01\r\u001B[K     |███████████████▌                | 92 kB 24.2 MB/s eta 0:00:01\r\u001B[K     |█████████████████▏              | 102 kB 24.9 MB/s eta 0:00:01\r\u001B[K     |███████████████████             | 112 kB 24.9 MB/s eta 0:00:01\r\u001B[K     |████████████████████▋           | 122 kB 24.9 MB/s eta 0:00:01\r\u001B[K     |██████████████████████▍         | 133 kB 24.9 MB/s eta 0:00:01\r\u001B[K     |████████████████████████        | 143 kB 24.9 MB/s eta 0:00:01\r\u001B[K     |█████████████████████████▉      | 153 kB 24.9 MB/s eta 0:00:01\r\u001B[K     |███████████████████████████▌    | 163 kB 24.9 MB/s eta 0:00:01\r\u001B[K     |█████████████████████████████▎  | 174 kB 24.9 MB/s eta 0:00:01\r\u001B[K     |███████████████████████████████ | 184 kB 24.9 MB/s eta 0:00:01\r\u001B[K     |████████████████████████████████| 190 kB 24.9 MB/s \r\n\u001B[?25hRequirement already satisfied: requests>=2.17.3 in /databricks/python3/lib/python3.9/site-packages (from mlflow==1.20.2) (2.27.1)\r\nCollecting databricks-cli>=0.8.7\r\n  Downloading databricks_cli-0.18.0-py2.py3-none-any.whl (150 kB)\r\n\u001B[?25l\r\u001B[K     |██▏                             | 10 kB 21.5 MB/s eta 0:00:01\r\u001B[K     |████▍                           | 20 kB 27.6 MB/s eta 0:00:01\r\u001B[K     |██████▌                         | 30 kB 33.3 MB/s eta 0:00:01\r\u001B[K     |████████▊                       | 40 kB 33.0 MB/s eta 0:00:01\r\u001B[K     |███████████                     | 51 kB 34.7 MB/s eta 0:00:01\r\u001B[K     |█████████████                   | 61 kB 36.1 MB/s eta 0:00:01\r\u001B[K     |███████████████▎                | 71 kB 37.7 MB/s eta 0:00:01\r\u001B[K     |█████████████████▍              | 81 kB 39.0 MB/s eta 0:00:01\r\u001B[K     |███████████████████▋            | 92 kB 38.0 MB/s eta 0:00:01\r\u001B[K     |█████████████████████▉          | 102 kB 38.9 MB/s eta 0:00:01\r\u001B[K     |████████████████████████        | 112 kB 38.9 MB/s eta 0:00:01\r\u001B[K     |██████████████████████████▏     | 122 kB 38.9 MB/s eta 0:00:01\r\u001B[K     |████████████████████████████▍   | 133 kB 38.9 MB/s eta 0:00:01\r\u001B[K     |██████████████████████████████▌ | 143 kB 38.9 MB/s eta 0:00:01\r\u001B[K     |████████████████████████████████| 150 kB 38.9 MB/s \r\n\u001B[?25hCollecting docker>=4.0.0\r\n  Downloading docker-6.1.3-py3-none-any.whl (148 kB)\r\n\u001B[?25l\r\u001B[K     |██▏                             | 10 kB 27.7 MB/s eta 0:00:01\r\u001B[K     |████▍                           | 20 kB 34.2 MB/s eta 0:00:01\r\u001B[K     |██████▋                         | 30 kB 40.5 MB/s eta 0:00:01\r\u001B[K     |████████▉                       | 40 kB 44.1 MB/s eta 0:00:01\r\u001B[K     |███████████                     | 51 kB 46.2 MB/s eta 0:00:01\r\u001B[K     |█████████████▎                  | 61 kB 49.4 MB/s eta 0:00:01\r\u001B[K     |███████████████▌                | 71 kB 49.9 MB/s eta 0:00:01\r\u001B[K     |█████████████████▊              | 81 kB 51.4 MB/s eta 0:00:01\r\u001B[K     |████████████████████            | 92 kB 53.2 MB/s eta 0:00:01\r\u001B[K     |██████████████████████▏         | 102 kB 54.3 MB/s eta 0:00:01\r\u001B[K     |████████████████████████▍       | 112 kB 54.3 MB/s eta 0:00:01\r\u001B[K     |██████████████████████████▌     | 122 kB 54.3 MB/s eta 0:00:01\r\u001B[K     |████████████████████████████▊   | 133 kB 54.3 MB/s eta 0:00:01\r\u001B[K     |███████████████████████████████ | 143 kB 54.3 MB/s eta 0:00:01\r\u001B[K     |████████████████████████████████| 148 kB 54.3 MB/s \r\n\u001B[?25hCollecting Mako\r\n  Downloading Mako-1.2.4-py3-none-any.whl (78 kB)\r\n\u001B[?25l\r\u001B[K     |████▏                           | 10 kB 25.6 MB/s eta 0:00:01\r\u001B[K     |████████▎                       | 20 kB 32.1 MB/s eta 0:00:01\r\u001B[K     |████████████▌                   | 30 kB 39.5 MB/s eta 0:00:01\r\u001B[K     |████████████████▋               | 40 kB 43.8 MB/s eta 0:00:01\r\u001B[K     |████████████████████▉           | 51 kB 45.1 MB/s eta 0:00:01\r\u001B[K     |█████████████████████████       | 61 kB 48.5 MB/s eta 0:00:01\r\u001B[K     |█████████████████████████████▏  | 71 kB 49.6 MB/s eta 0:00:01\r\u001B[K     |████████████████████████████████| 78 kB 10.8 MB/s \r\n\u001B[?25hCollecting python-editor>=0.3\r\n  Downloading python_editor-1.0.4-py3-none-any.whl (4.9 kB)\r\nRequirement already satisfied: python-dateutil in /databricks/python3/lib/python3.9/site-packages (from alembic<=1.4.1->mlflow==1.20.2) (2.8.2)\r\nRequirement already satisfied: urllib3<3,>=1.26.7 in /databricks/python3/lib/python3.9/site-packages (from databricks-cli>=0.8.7->mlflow==1.20.2) (1.26.9)\r\nCollecting tabulate>=0.7.7\r\n  Downloading tabulate-0.9.0-py3-none-any.whl (35 kB)\r\nRequirement already satisfied: six>=1.10.0 in /databricks/python3/lib/python3.9/site-packages (from databricks-cli>=0.8.7->mlflow==1.20.2) (1.16.0)\r\nCollecting oauthlib>=3.1.0\r\n  Downloading oauthlib-3.2.2-py3-none-any.whl (151 kB)\r\n\u001B[?25l\r\u001B[K     |██▏                             | 10 kB 15.2 MB/s eta 0:00:01\r\u001B[K     |████▎                           | 20 kB 19.4 MB/s eta 0:00:01\r\u001B[K     |██████▌                         | 30 kB 22.8 MB/s eta 0:00:01\r\u001B[K     |████████▋                       | 40 kB 23.5 MB/s eta 0:00:01\r\u001B[K     |██████████▉                     | 51 kB 24.6 MB/s eta 0:00:01\r\u001B[K     |█████████████                   | 61 kB 26.1 MB/s eta 0:00:01\r\u001B[K     |███████████████▏                | 71 kB 27.0 MB/s eta 0:00:01\r\u001B[K     |█████████████████▎              | 81 kB 27.6 MB/s eta 0:00:01\r\u001B[K     |███████████████████▍            | 92 kB 28.0 MB/s eta 0:00:01\r\u001B[K     |█████████████████████▋          | 102 kB 27.9 MB/s eta 0:00:01\r\u001B[K     |███████████████████████▊        | 112 kB 27.9 MB/s eta 0:00:01\r\u001B[K     |██████████████████████████      | 122 kB 27.9 MB/s eta 0:00:01\r\u001B[K     |████████████████████████████    | 133 kB 27.9 MB/s eta 0:00:01\r\u001B[K     |██████████████████████████████▎ | 143 kB 27.9 MB/s eta 0:00:01\r\u001B[K     |████████████████████████████████| 151 kB 27.9 MB/s \r\n\u001B[?25hCollecting pyjwt>=1.7.0\r\n  Downloading PyJWT-2.8.0-py3-none-any.whl (22 kB)\r\nCollecting websocket-client>=0.32.0\r\n  Downloading websocket_client-1.6.4-py3-none-any.whl (57 kB)\r\n\u001B[?25l\r\u001B[K     |█████▊                          | 10 kB 16.0 MB/s eta 0:00:01\r\u001B[K     |███████████▍                    | 20 kB 20.8 MB/s eta 0:00:01\r\u001B[K     |█████████████████▏              | 30 kB 23.7 MB/s eta 0:00:01\r\u001B[K     |██████████████████████▉         | 40 kB 23.6 MB/s eta 0:00:01\r\u001B[K     |████████████████████████████▋   | 51 kB 24.9 MB/s eta 0:00:01\r\u001B[K     |████████████████████████████████| 57 kB 5.4 MB/s \r\n\u001B[?25hCollecting gitdb<5,>=4.0.1\r\n  Downloading gitdb-4.0.11-py3-none-any.whl (62 kB)\r\n\u001B[?25l\r\u001B[K     |█████▎                          | 10 kB 28.9 MB/s eta 0:00:01\r\u001B[K     |██████████▌                     | 20 kB 37.3 MB/s eta 0:00:01\r\u001B[K     |███████████████▊                | 30 kB 41.3 MB/s eta 0:00:01\r\u001B[K     |█████████████████████           | 40 kB 43.7 MB/s eta 0:00:01\r\u001B[K     |██████████████████████████▏     | 51 kB 46.1 MB/s eta 0:00:01\r\u001B[K     |███████████████████████████████▍| 61 kB 49.3 MB/s eta 0:00:01\r\u001B[K     |████████████████████████████████| 62 kB 2.3 MB/s \r\n\u001B[?25hCollecting smmap<6,>=3.0.1\r\n  Downloading smmap-5.0.1-py3-none-any.whl (24 kB)\r\nCollecting zipp>=0.5\r\n  Downloading zipp-3.17.0-py3-none-any.whl (7.4 kB)\r\nRequirement already satisfied: pyparsing!=3.0.5,>=2.0.2 in /databricks/python3/lib/python3.9/site-packages (from packaging->mlflow==1.20.2) (3.0.4)\r\nRequirement already satisfied: idna<4,>=2.5 in /databricks/python3/lib/python3.9/site-packages (from requests>=2.17.3->mlflow==1.20.2) (3.3)\r\nRequirement already satisfied: charset-normalizer~=2.0.0 in /databricks/python3/lib/python3.9/site-packages (from requests>=2.17.3->mlflow==1.20.2) (2.0.4)\r\nRequirement already satisfied: certifi>=2017.4.17 in /databricks/python3/lib/python3.9/site-packages (from requests>=2.17.3->mlflow==1.20.2) (2021.10.8)\r\nCollecting typing-extensions>=4.2.0\r\n  Downloading typing_extensions-4.8.0-py3-none-any.whl (31 kB)\r\nCollecting greenlet!=0.4.17\r\n  Downloading greenlet-3.0.1-cp39-cp39-manylinux_2_24_x86_64.manylinux_2_28_x86_64.whl (610 kB)\r\n\u001B[?25l\r\u001B[K     |▌                               | 10 kB 25.6 MB/s eta 0:00:01\r\u001B[K     |█                               | 20 kB 31.1 MB/s eta 0:00:01\r\u001B[K     |█▋                              | 30 kB 36.7 MB/s eta 0:00:01\r\u001B[K     |██▏                             | 40 kB 38.9 MB/s eta 0:00:01\r\u001B[K     |██▊                             | 51 kB 40.8 MB/s eta 0:00:01\r\u001B[K     |███▏                            | 61 kB 43.2 MB/s eta 0:00:01\r\u001B[K     |███▊                            | 71 kB 44.0 MB/s eta 0:00:01\r\u001B[K     |████▎                           | 81 kB 45.8 MB/s eta 0:00:01\r\u001B[K     |████▉                           | 92 kB 46.4 MB/s eta 0:00:01\r\u001B[K     |█████▍                          | 102 kB 46.9 MB/s eta 0:00:01\r\u001B[K     |██████                          | 112 kB 46.9 MB/s eta 0:00:01\r\u001B[K     |██████▍                         | 122 kB 46.9 MB/s eta 0:00:01\r\u001B[K     |███████                         | 133 kB 46.9 MB/s eta 0:00:01\r\u001B[K     |███████▌                        | 143 kB 46.9 MB/s eta 0:00:01\r\u001B[K     |████████                        | 153 kB 46.9 MB/s eta 0:00:01\r\u001B[K     |████████▋                       | 163 kB 46.9 MB/s eta 0:00:01\r\u001B[K     |█████████▏                      | 174 kB 46.9 MB/s eta 0:00:01\r\u001B[K     |█████████▋                      | 184 kB 46.9 MB/s eta 0:00:01\r\u001B[K     |██████████▏                     | 194 kB 46.9 MB/s eta 0:00:01\r\u001B[K     |██████████▊                     | 204 kB 46.9 MB/s eta 0:00:01\r\u001B[K     |███████████▎                    | 215 kB 46.9 MB/s eta 0:00:01\r\u001B[K     |███████████▉                    | 225 kB 46.9 MB/s eta 0:00:01\r\u001B[K     |████████████▍                   | 235 kB 46.9 MB/s eta 0:00:01\r\u001B[K     |████████████▉                   | 245 kB 46.9 MB/s eta 0:00:01\r\u001B[K     |█████████████▍                  | 256 kB 46.9 MB/s eta 0:00:01\r\u001B[K     |██████████████                  | 266 kB 46.9 MB/s eta 0:00:01\r\u001B[K     |██████████████▌                 | 276 kB 46.9 MB/s eta 0:00:01\r\u001B[K     |███████████████                 | 286 kB 46.9 MB/s eta 0:00:01\r\u001B[K     |███████████████▋                | 296 kB 46.9 MB/s eta 0:00:01\r\u001B[K     |████████████████                | 307 kB 46.9 MB/s eta 0:00:01\r\u001B[K     |████████████████▋               | 317 kB 46.9 MB/s eta 0:00:01\r\u001B[K     |█████████████████▏              | 327 kB 46.9 MB/s eta 0:00:01\r\u001B[K     |█████████████████▊              | 337 kB 46.9 MB/s eta 0:00:01\r\u001B[K     |██████████████████▎             | 348 kB 46.9 MB/s eta 0:00:01\r\u001B[K     |██████████████████▉             | 358 kB 46.9 MB/s eta 0:00:01\r\u001B[K     |███████████████████▎            | 368 kB 46.9 MB/s eta 0:00:01\r\u001B[K     |███████████████████▉            | 378 kB 46.9 MB/s eta 0:00:01\r\u001B[K     |████████████████████▍           | 389 kB 46.9 MB/s eta 0:00:01\r\u001B[K     |█████████████████████           | 399 kB 46.9 MB/s eta 0:00:01\r\u001B[K     |█████████████████████▌          | 409 kB 46.9 MB/s eta 0:00:01\r\u001B[K     |██████████████████████          | 419 kB 46.9 MB/s eta 0:00:01\r\u001B[K     |██████████████████████▌         | 430 kB 46.9 MB/s eta 0:00:01\r\u001B[K     |███████████████████████         | 440 kB 46.9 MB/s eta 0:00:01\r\u001B[K     |███████████████████████▋        | 450 kB 46.9 MB/s eta 0:00:01\r\u001B[K     |████████████████████████▏       | 460 kB 46.9 MB/s eta 0:00:01\r\u001B[K     |████████████████████████▊       | 471 kB 46.9 MB/s eta 0:00:01\r\u001B[K     |█████████████████████████▏      | 481 kB 46.9 MB/s eta 0:00:01\r\u001B[K     |█████████████████████████▊      | 491 kB 46.9 MB/s eta 0:00:01\r\u001B[K     |██████████████████████████▎     | 501 kB 46.9 MB/s eta 0:00:01\r\u001B[K     |██████████████████████████▉     | 512 kB 46.9 MB/s eta 0:00:01\r\u001B[K     |███████████████████████████▍    | 522 kB 46.9 MB/s eta 0:00:01\r\u001B[K     |████████████████████████████    | 532 kB 46.9 MB/s eta 0:00:01\r\u001B[K     |████████████████████████████▍   | 542 kB 46.9 MB/s eta 0:00:01\r\u001B[K     |█████████████████████████████   | 552 kB 46.9 MB/s eta 0:00:01\r\u001B[K     |█████████████████████████████▌  | 563 kB 46.9 MB/s eta 0:00:01\r\u001B[K     |██████████████████████████████  | 573 kB 46.9 MB/s eta 0:00:01\r\u001B[K     |██████████████████████████████▋ | 583 kB 46.9 MB/s eta 0:00:01\r\u001B[K     |███████████████████████████████▏| 593 kB 46.9 MB/s eta 0:00:01\r\u001B[K     |███████████████████████████████▋| 604 kB 46.9 MB/s eta 0:00:01\r\u001B[K     |████████████████████████████████| 610 kB 46.9 MB/s \r\n\u001B[?25hCollecting Werkzeug>=3.0.0\r\n  Downloading werkzeug-3.0.1-py3-none-any.whl (226 kB)\r\n\u001B[?25l\r\u001B[K     |█▌                              | 10 kB 25.5 MB/s eta 0:00:01\r\u001B[K     |███                             | 20 kB 33.7 MB/s eta 0:00:01\r\u001B[K     |████▍                           | 30 kB 39.0 MB/s eta 0:00:01\r\u001B[K     |█████▉                          | 40 kB 42.9 MB/s eta 0:00:01\r\u001B[K     |███████▎                        | 51 kB 44.8 MB/s eta 0:00:01\r\u001B[K     |████████▊                       | 61 kB 48.1 MB/s eta 0:00:01\r\u001B[K     |██████████▏                     | 71 kB 49.8 MB/s eta 0:00:01\r\u001B[K     |███████████▋                    | 81 kB 51.7 MB/s eta 0:00:01\r\u001B[K     |█████████████                   | 92 kB 53.5 MB/s eta 0:00:01\r\u001B[K     |██████████████▌                 | 102 kB 54.5 MB/s eta 0:00:01\r\u001B[K     |████████████████                | 112 kB 54.5 MB/s eta 0:00:01\r\u001B[K     |█████████████████▍              | 122 kB 54.5 MB/s eta 0:00:01\r\u001B[K     |██████████████████▉             | 133 kB 54.5 MB/s eta 0:00:01\r\u001B[K     |████████████████████▎           | 143 kB 54.5 MB/s eta 0:00:01\r\u001B[K     |█████████████████████▊          | 153 kB 54.5 MB/s eta 0:00:01\r\u001B[K     |███████████████████████▏        | 163 kB 54.5 MB/s eta 0:00:01\r\u001B[K     |████████████████████████▋       | 174 kB 54.5 MB/s eta 0:00:01\r\u001B[K     |██████████████████████████      | 184 kB 54.5 MB/s eta 0:00:01\r\u001B[K     |███████████████████████████▌    | 194 kB 54.5 MB/s eta 0:00:01\r\u001B[K     |█████████████████████████████   | 204 kB 54.5 MB/s eta 0:00:01\r\u001B[K     |██████████████████████████████▍ | 215 kB 54.5 MB/s eta 0:00:01\r\u001B[K     |███████████████████████████████▉| 225 kB 54.5 MB/s eta 0:00:01\r\u001B[K     |████████████████████████████████| 226 kB 54.5 MB/s \r\n\u001B[?25hCollecting click>=7.0\r\n  Downloading click-8.1.7-py3-none-any.whl (97 kB)\r\n\u001B[?25l\r\u001B[K     |███▍                            | 10 kB 30.6 MB/s eta 0:00:01\r\u001B[K     |██████▊                         | 20 kB 32.3 MB/s eta 0:00:01\r\u001B[K     |██████████                      | 30 kB 35.5 MB/s eta 0:00:01\r\u001B[K     |█████████████▍                  | 40 kB 37.3 MB/s eta 0:00:01\r\u001B[K     |████████████████▊               | 51 kB 40.9 MB/s eta 0:00:01\r\u001B[K     |████████████████████            | 61 kB 44.1 MB/s eta 0:00:01\r\u001B[K     |███████████████████████▍        | 71 kB 46.9 MB/s eta 0:00:01\r\u001B[K     |██████████████████████████▊     | 81 kB 49.4 MB/s eta 0:00:01\r\u001B[K     |██████████████████████████████▏ | 92 kB 49.5 MB/s eta 0:00:01\r\u001B[K     |████████████████████████████████| 97 kB 12.0 MB/s \r\n\u001B[?25hCollecting blinker>=1.6.2\r\n  Downloading blinker-1.6.3-py3-none-any.whl (13 kB)\r\nCollecting Jinja2>=3.1.2\r\n  Downloading Jinja2-3.1.2-py3-none-any.whl (133 kB)\r\n\u001B[?25l\r\u001B[K     |██▌                             | 10 kB 33.6 MB/s eta 0:00:01\r\u001B[K     |█████                           | 20 kB 40.2 MB/s eta 0:00:01\r\u001B[K     |███████▍                        | 30 kB 42.8 MB/s eta 0:00:01\r\u001B[K     |█████████▉                      | 40 kB 46.8 MB/s eta 0:00:01\r\u001B[K     |████████████▎                   | 51 kB 49.0 MB/s eta 0:00:01\r\u001B[K     |██████████████▊                 | 61 kB 52.1 MB/s eta 0:00:01\r\u001B[K     |█████████████████▎              | 71 kB 54.3 MB/s eta 0:00:01\r\u001B[K     |███████████████████▊            | 81 kB 56.7 MB/s eta 0:00:01\r\u001B[K     |██████████████████████▏         | 92 kB 58.2 MB/s eta 0:00:01\r\u001B[K     |████████████████████████▋       | 102 kB 57.8 MB/s eta 0:00:01\r\u001B[K     |███████████████████████████     | 112 kB 57.8 MB/s eta 0:00:01\r\u001B[K     |█████████████████████████████▌  | 122 kB 57.8 MB/s eta 0:00:01\r\u001B[K     |████████████████████████████████| 133 kB 57.8 MB/s \r\n\u001B[?25hCollecting itsdangerous>=2.1.2\r\n  Downloading itsdangerous-2.1.2-py3-none-any.whl (15 kB)\r\nRequirement already satisfied: MarkupSafe>=2.0 in /databricks/python3/lib/python3.9/site-packages (from Jinja2>=3.1.2->Flask->mlflow==1.20.2) (2.0.1)\r\nCollecting MarkupSafe>=2.0\r\n  Downloading MarkupSafe-2.1.3-cp39-cp39-manylinux_2_17_x86_64.manylinux2014_x86_64.whl (25 kB)\r\nRequirement already satisfied: prometheus-client in /databricks/python3/lib/python3.9/site-packages (from prometheus-flask-exporter->mlflow==1.20.2) (0.13.1)\r\nBuilding wheels for collected packages: alembic\r\n  Building wheel for alembic (setup.py) ... \u001B[?25l-\b \b\\\b \b|\b \b/\b \b-\b \b\\\b \b|\b \b/\b \b-\b \b\\\b \b|\b \bdone\r\n\u001B[?25h  Created wheel for alembic: filename=alembic-1.4.1-py2.py3-none-any.whl size=158170 sha256=e1e78ac10c0a6a6fabe5884a0bf2a8de696c1f32831cb2e75a93b99f0a060044\r\n  Stored in directory: /root/.cache/pip/wheels/05/12/70/e1473f1aab32af60e9b87f14bbbb745b7c2e86d7f3e5b5742b\r\nSuccessfully built alembic\r\nInstalling collected packages: zipp, MarkupSafe, Werkzeug, typing-extensions, smmap, Jinja2, itsdangerous, importlib-metadata, greenlet, click, blinker, websocket-client, tabulate, sqlalchemy, python-editor, pyjwt, oauthlib, Mako, gitdb, Flask, sqlparse, querystring-parser, pyyaml, prometheus-flask-exporter, gunicorn, gitpython, docker, databricks-cli, cloudpickle, alembic, mlflow\r\n  Attempting uninstall: MarkupSafe\r\n    Found existing installation: MarkupSafe 2.0.1\r\n    Not uninstalling markupsafe at /databricks/python3/lib/python3.9/site-packages, outside environment /local_disk0/.ephemeral_nfs/envs/pythonEnv-409989a8-4189-4148-bfa7-53270b9bb7ff\r\n    Can't uninstall 'MarkupSafe'. No files were found to uninstall.\r\n  Attempting uninstall: typing-extensions\r\n    Found existing installation: typing-extensions 4.1.1\r\n    Not uninstalling typing-extensions at /databricks/python3/lib/python3.9/site-packages, outside environment /local_disk0/.ephemeral_nfs/envs/pythonEnv-409989a8-4189-4148-bfa7-53270b9bb7ff\r\n    Can't uninstall 'typing-extensions'. No files were found to uninstall.\r\n  Attempting uninstall: Jinja2\r\n    Found existing installation: Jinja2 2.11.3\r\n    Not uninstalling jinja2 at /databricks/python3/lib/python3.9/site-packages, outside environment /local_disk0/.ephemeral_nfs/envs/pythonEnv-409989a8-4189-4148-bfa7-53270b9bb7ff\r\n    Can't uninstall 'Jinja2'. No files were found to uninstall.\r\n  Attempting uninstall: click\r\n    Found existing installation: click 8.0.4\r\n    Not uninstalling click at /databricks/python3/lib/python3.9/site-packages, outside environment /local_disk0/.ephemeral_nfs/envs/pythonEnv-409989a8-4189-4148-bfa7-53270b9bb7ff\r\n    Can't uninstall 'click'. No files were found to uninstall.\r\nSuccessfully installed Flask-3.0.0 Jinja2-3.1.2 Mako-1.2.4 MarkupSafe-2.1.3 Werkzeug-3.0.1 alembic-1.4.1 blinker-1.6.3 click-8.1.7 cloudpickle-3.0.0 databricks-cli-0.18.0 docker-6.1.3 gitdb-4.0.11 gitpython-3.1.40 greenlet-3.0.1 gunicorn-21.2.0 importlib-metadata-6.8.0 itsdangerous-2.1.2 mlflow-1.20.2 oauthlib-3.2.2 prometheus-flask-exporter-0.23.0 pyjwt-2.8.0 python-editor-1.0.4 pyyaml-6.0.1 querystring-parser-1.2.4 smmap-5.0.1 sqlalchemy-2.0.22 sqlparse-0.4.4 tabulate-0.9.0 typing-extensions-4.8.0 websocket-client-1.6.4 zipp-3.17.0\r\n\u001B[33mWARNING: You are using pip version 21.2.4; however, version 23.3.1 is available.\r\nYou should consider upgrading via the '/local_disk0/.ephemeral_nfs/envs/pythonEnv-409989a8-4189-4148-bfa7-53270b9bb7ff/bin/python -m pip install --upgrade pip' command.\u001B[0m\r\n"
     ]
    }
   ],
   "source": [
    "!pip install mlflow==1.20.2"
   ]
  },
  {
   "cell_type": "code",
   "execution_count": 0,
   "metadata": {
    "application/vnd.databricks.v1+cell": {
     "cellMetadata": {
      "byteLimit": 2048000,
      "rowLimit": 10000
     },
     "inputWidgets": {},
     "nuid": "654aec93-f936-4345-a75a-c072281a3029",
     "showTitle": false,
     "title": ""
    }
   },
   "outputs": [],
   "source": [
    "# File location and type\n",
    "file_location = \"/FileStore/tables/creditcard.csv\"\n",
    "file_type = \"csv\"\n",
    "\n",
    "# CSV options\n",
    "infer_schema = \"true\"\n",
    "first_row_is_header = \"true\"\n",
    "delimiter = \",\"\n",
    "\n",
    "# The applied options are for CSV files. For other file types, these will be ignored.\n",
    "dataframe = spark.read.format(file_type) \\\n",
    "  .option(\"inferSchema\", infer_schema) \\\n",
    "  .option(\"header\", first_row_is_header) \\\n",
    "  .option(\"sep\", delimiter) \\\n",
    "  .load(file_location)\n",
    "\n",
    "df=dataframe.toPandas()"
   ]
  },
  {
   "cell_type": "code",
   "execution_count": 0,
   "metadata": {
    "application/vnd.databricks.v1+cell": {
     "cellMetadata": {
      "byteLimit": 2048000,
      "rowLimit": 10000
     },
     "inputWidgets": {},
     "nuid": "bc637a22-410d-4100-8348-3b5369817534",
     "showTitle": false,
     "title": ""
    }
   },
   "outputs": [
    {
     "output_type": "display_data",
     "data": {
      "text/html": [
       "<div>\n",
       "<style scoped>\n",
       "    .dataframe tbody tr th:only-of-type {\n",
       "        vertical-align: middle;\n",
       "    }\n",
       "\n",
       "    .dataframe tbody tr th {\n",
       "        vertical-align: top;\n",
       "    }\n",
       "\n",
       "    .dataframe thead th {\n",
       "        text-align: right;\n",
       "    }\n",
       "</style>\n",
       "<table border=\"1\" class=\"dataframe\">\n",
       "  <thead>\n",
       "    <tr style=\"text-align: right;\">\n",
       "      <th></th>\n",
       "      <th>V1</th>\n",
       "      <th>V2</th>\n",
       "      <th>V3</th>\n",
       "      <th>V4</th>\n",
       "      <th>V5</th>\n",
       "      <th>V6</th>\n",
       "      <th>V7</th>\n",
       "      <th>V8</th>\n",
       "      <th>V9</th>\n",
       "      <th>V10</th>\n",
       "      <th>...</th>\n",
       "      <th>V21</th>\n",
       "      <th>V22</th>\n",
       "      <th>V23</th>\n",
       "      <th>V24</th>\n",
       "      <th>V25</th>\n",
       "      <th>V26</th>\n",
       "      <th>V27</th>\n",
       "      <th>V28</th>\n",
       "      <th>Amount</th>\n",
       "      <th>Class</th>\n",
       "    </tr>\n",
       "  </thead>\n",
       "  <tbody>\n",
       "    <tr>\n",
       "      <th>0</th>\n",
       "      <td>-1.359807</td>\n",
       "      <td>-0.072781</td>\n",
       "      <td>2.536347</td>\n",
       "      <td>1.378155</td>\n",
       "      <td>-0.338321</td>\n",
       "      <td>0.462388</td>\n",
       "      <td>0.239599</td>\n",
       "      <td>0.098698</td>\n",
       "      <td>0.363787</td>\n",
       "      <td>0.090794</td>\n",
       "      <td>...</td>\n",
       "      <td>-0.018307</td>\n",
       "      <td>0.277838</td>\n",
       "      <td>-0.110474</td>\n",
       "      <td>0.066928</td>\n",
       "      <td>0.128539</td>\n",
       "      <td>-0.189115</td>\n",
       "      <td>0.133558</td>\n",
       "      <td>-0.021053</td>\n",
       "      <td>149.62</td>\n",
       "      <td>0</td>\n",
       "    </tr>\n",
       "    <tr>\n",
       "      <th>1</th>\n",
       "      <td>1.191857</td>\n",
       "      <td>0.266151</td>\n",
       "      <td>0.166480</td>\n",
       "      <td>0.448154</td>\n",
       "      <td>0.060018</td>\n",
       "      <td>-0.082361</td>\n",
       "      <td>-0.078803</td>\n",
       "      <td>0.085102</td>\n",
       "      <td>-0.255425</td>\n",
       "      <td>-0.166974</td>\n",
       "      <td>...</td>\n",
       "      <td>-0.225775</td>\n",
       "      <td>-0.638672</td>\n",
       "      <td>0.101288</td>\n",
       "      <td>-0.339846</td>\n",
       "      <td>0.167170</td>\n",
       "      <td>0.125895</td>\n",
       "      <td>-0.008983</td>\n",
       "      <td>0.014724</td>\n",
       "      <td>2.69</td>\n",
       "      <td>0</td>\n",
       "    </tr>\n",
       "    <tr>\n",
       "      <th>2</th>\n",
       "      <td>-1.358354</td>\n",
       "      <td>-1.340163</td>\n",
       "      <td>1.773209</td>\n",
       "      <td>0.379780</td>\n",
       "      <td>-0.503198</td>\n",
       "      <td>1.800499</td>\n",
       "      <td>0.791461</td>\n",
       "      <td>0.247676</td>\n",
       "      <td>-1.514654</td>\n",
       "      <td>0.207643</td>\n",
       "      <td>...</td>\n",
       "      <td>0.247998</td>\n",
       "      <td>0.771679</td>\n",
       "      <td>0.909412</td>\n",
       "      <td>-0.689281</td>\n",
       "      <td>-0.327642</td>\n",
       "      <td>-0.139097</td>\n",
       "      <td>-0.055353</td>\n",
       "      <td>-0.059752</td>\n",
       "      <td>378.66</td>\n",
       "      <td>0</td>\n",
       "    </tr>\n",
       "    <tr>\n",
       "      <th>3</th>\n",
       "      <td>-0.966272</td>\n",
       "      <td>-0.185226</td>\n",
       "      <td>1.792993</td>\n",
       "      <td>-0.863291</td>\n",
       "      <td>-0.010309</td>\n",
       "      <td>1.247203</td>\n",
       "      <td>0.237609</td>\n",
       "      <td>0.377436</td>\n",
       "      <td>-1.387024</td>\n",
       "      <td>-0.054952</td>\n",
       "      <td>...</td>\n",
       "      <td>-0.108300</td>\n",
       "      <td>0.005274</td>\n",
       "      <td>-0.190321</td>\n",
       "      <td>-1.175575</td>\n",
       "      <td>0.647376</td>\n",
       "      <td>-0.221929</td>\n",
       "      <td>0.062723</td>\n",
       "      <td>0.061458</td>\n",
       "      <td>123.50</td>\n",
       "      <td>0</td>\n",
       "    </tr>\n",
       "    <tr>\n",
       "      <th>4</th>\n",
       "      <td>-1.158233</td>\n",
       "      <td>0.877737</td>\n",
       "      <td>1.548718</td>\n",
       "      <td>0.403034</td>\n",
       "      <td>-0.407193</td>\n",
       "      <td>0.095921</td>\n",
       "      <td>0.592941</td>\n",
       "      <td>-0.270533</td>\n",
       "      <td>0.817739</td>\n",
       "      <td>0.753074</td>\n",
       "      <td>...</td>\n",
       "      <td>-0.009431</td>\n",
       "      <td>0.798278</td>\n",
       "      <td>-0.137458</td>\n",
       "      <td>0.141267</td>\n",
       "      <td>-0.206010</td>\n",
       "      <td>0.502292</td>\n",
       "      <td>0.219422</td>\n",
       "      <td>0.215153</td>\n",
       "      <td>69.99</td>\n",
       "      <td>0</td>\n",
       "    </tr>\n",
       "  </tbody>\n",
       "</table>\n",
       "<p>5 rows × 30 columns</p>\n",
       "</div>"
      ]
     },
     "metadata": {
      "application/vnd.databricks.v1+output": {
       "addedWidgets": {},
       "arguments": {},
       "data": "<div>\n<style scoped>\n    .dataframe tbody tr th:only-of-type {\n        vertical-align: middle;\n    }\n\n    .dataframe tbody tr th {\n        vertical-align: top;\n    }\n\n    .dataframe thead th {\n        text-align: right;\n    }\n</style>\n<table border=\"1\" class=\"dataframe\">\n  <thead>\n    <tr style=\"text-align: right;\">\n      <th></th>\n      <th>V1</th>\n      <th>V2</th>\n      <th>V3</th>\n      <th>V4</th>\n      <th>V5</th>\n      <th>V6</th>\n      <th>V7</th>\n      <th>V8</th>\n      <th>V9</th>\n      <th>V10</th>\n      <th>...</th>\n      <th>V21</th>\n      <th>V22</th>\n      <th>V23</th>\n      <th>V24</th>\n      <th>V25</th>\n      <th>V26</th>\n      <th>V27</th>\n      <th>V28</th>\n      <th>Amount</th>\n      <th>Class</th>\n    </tr>\n  </thead>\n  <tbody>\n    <tr>\n      <th>0</th>\n      <td>-1.359807</td>\n      <td>-0.072781</td>\n      <td>2.536347</td>\n      <td>1.378155</td>\n      <td>-0.338321</td>\n      <td>0.462388</td>\n      <td>0.239599</td>\n      <td>0.098698</td>\n      <td>0.363787</td>\n      <td>0.090794</td>\n      <td>...</td>\n      <td>-0.018307</td>\n      <td>0.277838</td>\n      <td>-0.110474</td>\n      <td>0.066928</td>\n      <td>0.128539</td>\n      <td>-0.189115</td>\n      <td>0.133558</td>\n      <td>-0.021053</td>\n      <td>149.62</td>\n      <td>0</td>\n    </tr>\n    <tr>\n      <th>1</th>\n      <td>1.191857</td>\n      <td>0.266151</td>\n      <td>0.166480</td>\n      <td>0.448154</td>\n      <td>0.060018</td>\n      <td>-0.082361</td>\n      <td>-0.078803</td>\n      <td>0.085102</td>\n      <td>-0.255425</td>\n      <td>-0.166974</td>\n      <td>...</td>\n      <td>-0.225775</td>\n      <td>-0.638672</td>\n      <td>0.101288</td>\n      <td>-0.339846</td>\n      <td>0.167170</td>\n      <td>0.125895</td>\n      <td>-0.008983</td>\n      <td>0.014724</td>\n      <td>2.69</td>\n      <td>0</td>\n    </tr>\n    <tr>\n      <th>2</th>\n      <td>-1.358354</td>\n      <td>-1.340163</td>\n      <td>1.773209</td>\n      <td>0.379780</td>\n      <td>-0.503198</td>\n      <td>1.800499</td>\n      <td>0.791461</td>\n      <td>0.247676</td>\n      <td>-1.514654</td>\n      <td>0.207643</td>\n      <td>...</td>\n      <td>0.247998</td>\n      <td>0.771679</td>\n      <td>0.909412</td>\n      <td>-0.689281</td>\n      <td>-0.327642</td>\n      <td>-0.139097</td>\n      <td>-0.055353</td>\n      <td>-0.059752</td>\n      <td>378.66</td>\n      <td>0</td>\n    </tr>\n    <tr>\n      <th>3</th>\n      <td>-0.966272</td>\n      <td>-0.185226</td>\n      <td>1.792993</td>\n      <td>-0.863291</td>\n      <td>-0.010309</td>\n      <td>1.247203</td>\n      <td>0.237609</td>\n      <td>0.377436</td>\n      <td>-1.387024</td>\n      <td>-0.054952</td>\n      <td>...</td>\n      <td>-0.108300</td>\n      <td>0.005274</td>\n      <td>-0.190321</td>\n      <td>-1.175575</td>\n      <td>0.647376</td>\n      <td>-0.221929</td>\n      <td>0.062723</td>\n      <td>0.061458</td>\n      <td>123.50</td>\n      <td>0</td>\n    </tr>\n    <tr>\n      <th>4</th>\n      <td>-1.158233</td>\n      <td>0.877737</td>\n      <td>1.548718</td>\n      <td>0.403034</td>\n      <td>-0.407193</td>\n      <td>0.095921</td>\n      <td>0.592941</td>\n      <td>-0.270533</td>\n      <td>0.817739</td>\n      <td>0.753074</td>\n      <td>...</td>\n      <td>-0.009431</td>\n      <td>0.798278</td>\n      <td>-0.137458</td>\n      <td>0.141267</td>\n      <td>-0.206010</td>\n      <td>0.502292</td>\n      <td>0.219422</td>\n      <td>0.215153</td>\n      <td>69.99</td>\n      <td>0</td>\n    </tr>\n  </tbody>\n</table>\n<p>5 rows × 30 columns</p>\n</div>",
       "datasetInfos": [],
       "metadata": {},
       "removedWidgets": [],
       "textData": null,
       "type": "htmlSandbox"
      }
     },
     "output_type": "display_data"
    }
   ],
   "source": [
    "df = df.drop(\"Time\", axis=1) # cette colonne n'apporte rien à notre analyse \n",
    "df.head()\n",
    "  "
   ]
  },
  {
   "cell_type": "code",
   "execution_count": 0,
   "metadata": {
    "application/vnd.databricks.v1+cell": {
     "cellMetadata": {
      "byteLimit": 2048000,
      "rowLimit": 10000
     },
     "inputWidgets": {},
     "nuid": "7cb1a8ae-f3fa-4ea8-9599-3c698b171f85",
     "showTitle": false,
     "title": ""
    }
   },
   "outputs": [
    {
     "output_type": "stream",
     "name": "stdout",
     "output_type": "stream",
     "text": [
      "Out[7]: <AxesSubplot:xlabel='Class', ylabel='count'>"
     ]
    },
    {
     "output_type": "display_data",
     "data": {
      "image/png": "[encoded data removed]"
     },
     "metadata": {
      "application/vnd.databricks.v1+output": {
       "addedWidgets": {},
       "arguments": {},
       "data": "data:image/png;base64,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\n",
       "datasetInfos": [],
       "metadata": {},
       "removedWidgets": [],
       "type": "image"
      }
     },
     "output_type": "display_data"
    }
   ],
   "source": [
    "sns.countplot(x='Class',data=df)"
   ]
  },
  {
   "cell_type": "code",
   "execution_count": 0,
   "metadata": {
    "application/vnd.databricks.v1+cell": {
     "cellMetadata": {
      "byteLimit": 2048000,
      "rowLimit": 10000
     },
     "inputWidgets": {},
     "nuid": "c8826df7-e677-42d0-9265-e972c3070577",
     "showTitle": false,
     "title": ""
    }
   },
   "outputs": [],
   "source": [
    "normal = df[df.Class == 0].sample(frac=0.5,random_state=2020).reset_index(drop=True)\n",
    "anomaly = df[df.Class == 1]"
   ]
  },
  {
   "cell_type": "code",
   "execution_count": 0,
   "metadata": {
    "application/vnd.databricks.v1+cell": {
     "cellMetadata": {
      "byteLimit": 2048000,
      "rowLimit": 10000
     },
     "inputWidgets": {},
     "nuid": "22ce2fad-b96d-4fe6-ae8e-13e77062932b",
     "showTitle": false,
     "title": ""
    }
   },
   "outputs": [
    {
     "output_type": "stream",
     "name": "stdout",
     "output_type": "stream",
     "text": [
      "Normal: (142158, 30)\nAnomaly: (492, 30)\n"
     ]
    }
   ],
   "source": [
    "print(f\"Normal: {normal.shape}\")\n",
    "print(f\"Anomaly: {anomaly.shape}\")"
   ]
  },
  {
   "cell_type": "code",
   "execution_count": 0,
   "metadata": {
    "application/vnd.databricks.v1+cell": {
     "cellMetadata": {
      "byteLimit": 2048000,
      "rowLimit": 10000
     },
     "inputWidgets": {},
     "nuid": "5d8e4e74-4514-497c-92f5-00870f5c0d60",
     "showTitle": false,
     "title": ""
    }
   },
   "outputs": [],
   "source": [
    "normal_train, normal_test = train_test_split(normal,test_size = 0.2, random_state = 2020)\n",
    "anomaly_train, anomaly_test = train_test_split(anomaly, test_size = 0.2, random_state = 2020)\n",
    "normal_train, normal_validate = train_test_split(normal_train,test_size = 0.25, random_state = 2020)\n",
    "anomaly_train, anomaly_validate = train_test_split(anomaly_train, test_size = 0.25, random_state = 2020)"
   ]
  },
  {
   "cell_type": "code",
   "execution_count": 0,
   "metadata": {
    "application/vnd.databricks.v1+cell": {
     "cellMetadata": {
      "byteLimit": 2048000,
      "rowLimit": 10000
     },
     "inputWidgets": {},
     "nuid": "d8b829c4-0aaa-4731-b522-791c56f36b5d",
     "showTitle": false,
     "title": ""
    }
   },
   "outputs": [],
   "source": [
    "x_train = pd.concat((normal_train, anomaly_train))\n",
    "x_test = pd.concat((normal_test, anomaly_test))\n",
    "x_validate = pd.concat((normal_validate, anomaly_validate))"
   ]
  },
  {
   "cell_type": "code",
   "execution_count": 0,
   "metadata": {
    "application/vnd.databricks.v1+cell": {
     "cellMetadata": {
      "byteLimit": 2048000,
      "rowLimit": 10000
     },
     "inputWidgets": {},
     "nuid": "0f9154fc-e384-4c11-8664-d189b7dd90aa",
     "showTitle": false,
     "title": ""
    }
   },
   "outputs": [],
   "source": [
    "y_train = np.array(x_train[\"Class\"])\n",
    "y_test = np.array(x_test[\"Class\"])\n",
    "y_validate = np.array(x_validate[\"Class\"])"
   ]
  },
  {
   "cell_type": "code",
   "execution_count": 0,
   "metadata": {
    "application/vnd.databricks.v1+cell": {
     "cellMetadata": {
      "byteLimit": 2048000,
      "rowLimit": 10000
     },
     "inputWidgets": {},
     "nuid": "218a641e-5e9c-4204-8bc5-6bb17b3ecf04",
     "showTitle": false,
     "title": ""
    }
   },
   "outputs": [],
   "source": [
    "x_train = x_train.drop(\"Class\", axis=1)\n",
    "x_test = x_test.drop(\"Class\", axis=1)\n",
    "x_validate = x_validate.drop(\"Class\", axis=1)"
   ]
  },
  {
   "cell_type": "code",
   "execution_count": 0,
   "metadata": {
    "application/vnd.databricks.v1+cell": {
     "cellMetadata": {
      "byteLimit": 2048000,
      "rowLimit": 10000
     },
     "inputWidgets": {},
     "nuid": "fce1f6fa-3643-4eb8-a6bf-8ad149712741",
     "showTitle": false,
     "title": ""
    }
   },
   "outputs": [
    {
     "output_type": "stream",
     "name": "stdout",
     "output_type": "stream",
     "text": [
      "Training sets:\nx_train: (85588, 29) \ny_train:(85588,)\n\nTesting sets:\nx_test: (28531, 29) \ny_test:(28531,)\n\nValidation sets:\nx_validate: (28531, 29) \ny_validate: (28531,)\n"
     ]
    }
   ],
   "source": [
    "print(\"Training sets:\\nx_train: {} \\ny_train:{}\".format(x_train.shape, y_train.shape))\n",
    "print(\"\\nTesting sets:\\nx_test: {} \\ny_test:{}\".format(x_test.shape, y_test.shape))\n",
    "print(\"\\nValidation sets:\\nx_validate: {} \\ny_validate: {}\".format(x_validate.shape, y_validate.shape))"
   ]
  },
  {
   "cell_type": "code",
   "execution_count": 0,
   "metadata": {
    "application/vnd.databricks.v1+cell": {
     "cellMetadata": {
      "byteLimit": 2048000,
      "rowLimit": 10000
     },
     "inputWidgets": {},
     "nuid": "f9673742-2221-44a7-87c0-36f5a0d330d3",
     "showTitle": false,
     "title": ""
    }
   },
   "outputs": [
    {
     "output_type": "stream",
     "name": "stdout",
     "output_type": "stream",
     "text": [
      "Out[15]: StandardScaler()"
     ]
    }
   ],
   "source": [
    "scaler = StandardScaler()\n",
    "scaler.fit(pd.concat((normal, anomaly)).drop(\"Class\", axis=1))"
   ]
  },
  {
   "cell_type": "code",
   "execution_count": 0,
   "metadata": {
    "application/vnd.databricks.v1+cell": {
     "cellMetadata": {
      "byteLimit": 2048000,
      "rowLimit": 10000
     },
     "inputWidgets": {},
     "nuid": "c722fc83-a64a-4356-b12f-7fd98db8b79d",
     "showTitle": false,
     "title": ""
    }
   },
   "outputs": [],
   "source": [
    "x_train = scaler.transform(x_train)\n",
    "x_test = scaler.transform(x_test)\n",
    "x_validate = scaler.transform(x_validate)"
   ]
  },
  {
   "cell_type": "code",
   "execution_count": 0,
   "metadata": {
    "application/vnd.databricks.v1+cell": {
     "cellMetadata": {
      "byteLimit": 2048000,
      "rowLimit": 10000
     },
     "inputWidgets": {},
     "nuid": "bfc4d63f-a9c7-4239-8d2c-2819312632ec",
     "showTitle": false,
     "title": ""
    }
   },
   "outputs": [],
   "source": [
    "def train(sk_model, x_train, y_train):\n",
    "    sk_model = sk_model.fit(x_train, y_train)\n",
    "    train_acc = sk_model.score(x_train, y_train)\n",
    "    mlflow.log_metric(\"train_acc\", train_acc)\n",
    "    print(f\"Train Accuracy: {train_acc:.3%}\")"
   ]
  },
  {
   "cell_type": "code",
   "execution_count": 0,
   "metadata": {
    "application/vnd.databricks.v1+cell": {
     "cellMetadata": {
      "byteLimit": 2048000,
      "rowLimit": 10000
     },
     "inputWidgets": {},
     "nuid": "cabf8c63-9946-40f5-a966-3bfa0b14bc3e",
     "showTitle": false,
     "title": ""
    }
   },
   "outputs": [],
   "source": [
    "def evaluate(sk_model, x_test, y_test):\n",
    "    eval_acc = sk_model.score(x_test, y_test)\n",
    "    preds = sk_model.predict(x_test)\n",
    "    auc_score = roc_auc_score(y_test, preds)\n",
    "    mlflow.log_metric(\"eval_acc\", eval_acc) # nous avons fait la même chose pour l'accuracy de test (evaluation)\n",
    "    mlflow.log_metric(\"auc_score\", auc_score)# aussi pour l'AUC score \n",
    "    print(f\"Auc Score: {auc_score:.3%}\")\n",
    "    print(f\"Eval Accuracy: {eval_acc:.3%}\")\n",
    "    roc_plot = plot_roc_curve(sk_model, x_test, y_test,name='Scikit-learn ROC Curve')\n",
    "    plt.savefig(\"sklearn_roc_plot.png\")\n",
    "    plt.show()\n",
    "    plt.clf()\n",
    "    conf_matrix = confusion_matrix(y_test, preds)\n",
    "    ax = sns.heatmap(conf_matrix, annot=True,fmt='g')\n",
    "    ax.invert_xaxis()\n",
    "    ax.invert_yaxis()\n",
    "    plt.ylabel('Actual')\n",
    "    plt.xlabel('Predicted')\n",
    "    plt.title(\"Confusion Matrix\")\n",
    "    plt.savefig(\"sklearn_conf_matrix.png\")\n",
    "    # nous avons dit à MLflow de sauvegarder ces deux figure afin de les consulter à chaque \n",
    "    # exécution d'une façon organisée comme nous allons le voir plus loin dans cet atelier  \n",
    "    mlflow.log_artifact(\"sklearn_roc_plot.png\")\n",
    "    mlflow.log_artifact(\"sklearn_conf_matrix.png\")"
   ]
  },
  {
   "cell_type": "code",
   "execution_count": 0,
   "metadata": {
    "application/vnd.databricks.v1+cell": {
     "cellMetadata": {
      "byteLimit": 2048000,
      "rowLimit": 10000
     },
     "inputWidgets": {},
     "nuid": "7dc551ab-f1ba-4b81-9173-580e0d155318",
     "showTitle": false,
     "title": ""
    }
   },
   "outputs": [
    {
     "output_type": "stream",
     "name": "stdout",
     "output_type": "stream",
     "text": [
      "Wrote 97 bytes.\nOut[20]: True"
     ]
    }
   ],
   "source": [
    "#to configure your DataBricks CLI\n",
    "token = dbutils.notebook.entry_point.getDbutils().notebook().getContext().apiToken().get()\n",
    "dbutils.fs.put(\"file:///root/.databrickscfg\",\"[DEFAULT]\\nhost=https://community.cloud.databricks.com\\ntoken =\"+token,overwrite=True)"
   ]
  },
  {
   "cell_type": "code",
   "execution_count": 0,
   "metadata": {
    "application/vnd.databricks.v1+cell": {
     "cellMetadata": {
      "byteLimit": 2048000,
      "rowLimit": 10000
     },
     "inputWidgets": {},
     "nuid": "ad5ef2cc-cf73-40fc-98ff-a9b4b2750298",
     "showTitle": false,
     "title": ""
    }
   },
   "outputs": [
    {
     "output_type": "stream",
     "name": "stdout",
     "output_type": "stream",
     "text": [
      "INFO: '/Users/ismailyassine04@gmail.com/scikit_learn_experiment1' does not exist. Creating a new experiment\n"
     ]
    },
    {
     "output_type": "stream",
     "name": "stderr",
     "output_type": "stream",
     "text": [
      "/databricks/python/lib/python3.9/site-packages/sklearn/utils/optimize.py:210: ConvergenceWarning: newton-cg failed to converge. Increase the number of iterations.\n  warnings.warn(\n"
     ]
    },
    {
     "output_type": "stream",
     "name": "stdout",
     "output_type": "stream",
     "text": [
      "Train Accuracy: 99.893%\nAuc Score: 85.341%\nEval Accuracy: 99.874%\n"
     ]
    },
    {
     "output_type": "stream",
     "name": "stderr",
     "output_type": "stream",
     "text": [
      "/databricks/python/lib/python3.9/site-packages/sklearn/utils/deprecation.py:87: FutureWarning: Function plot_roc_curve is deprecated; Function :func:`plot_roc_curve` is deprecated in 1.0 and will be removed in 1.2. Use one of the class methods: :meth:`sklearn.metric.RocCurveDisplay.from_predictions` or :meth:`sklearn.metric.RocCurveDisplay.from_estimator`.\n  warnings.warn(msg, category=FutureWarning)\n"
     ]
    },
    {
     "output_type": "display_data",
     "data": {
      "image/png": "[encoded data removed]"
     },
     "metadata": {
      "application/vnd.databricks.v1+output": {
       "addedWidgets": {},
       "arguments": {},
       "data": "data:image/png;base64,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\n",
       "datasetInfos": [],
       "metadata": {},
       "removedWidgets": [],
       "type": "image"
      }
     },
     "output_type": "display_data"
    },
    {
     "output_type": "stream",
     "name": "stdout",
     "output_type": "stream",
     "text": [
      "Model run:  7257c127d1ee40b28215e9a11d5aa793\n"
     ]
    },
    {
     "output_type": "display_data",
     "data": {
      "image/png": "[encoded data removed]"
     },
     "metadata": {
      "application/vnd.databricks.v1+output": {
       "addedWidgets": {},
       "arguments": {},
       "data": "data:image/png;base64,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\n",
       "datasetInfos": [],
       "metadata": {},
       "removedWidgets": [],
       "type": "image"
      }
     },
     "output_type": "display_data"
    }
   ],
   "source": [
    "sk_model = LogisticRegression(random_state=None,max_iter=10, solver='newton-cg')\n",
    "mlflow.set_experiment(\"/Users/ismailyassine04@gmail.com/scikit_learn_experiment1\")\n",
    "with mlflow.start_run():\n",
    "    train(sk_model, x_train, y_train)\n",
    "    evaluate(sk_model, x_test, y_test)\n",
    "    mlflow.sklearn.log_model(sk_model, \"log_reg_model\")\n",
    "    print(\"Model run: \", mlflow.active_run().info.run_uuid)\n",
    "mlflow.end_run()"
   ]
  },
  {
   "cell_type": "code",
   "execution_count": 0,
   "metadata": {
    "application/vnd.databricks.v1+cell": {
     "cellMetadata": {
      "byteLimit": 2048000,
      "rowLimit": 10000
     },
     "inputWidgets": {},
     "nuid": "3413c518-1432-486b-89d1-31de2aadbbf5",
     "showTitle": false,
     "title": ""
    }
   },
   "outputs": [
    {
     "output_type": "stream",
     "name": "stderr",
     "output_type": "stream",
     "text": [
      "/databricks/python/lib/python3.9/site-packages/sklearn/model_selection/_validation.py:372: FitFailedWarning: \n630 fits failed out of a total of 1500.\nThe score on these train-test partitions for these parameters will be set to nan.\nIf these failures are not expected, you can try to debug them by setting error_score='raise'.\n\nBelow are more details about the failures:\n--------------------------------------------------------------------------------\n120 fits failed with the following error:\nTraceback (most recent call last):\n  File \"/databricks/python/lib/python3.9/site-packages/sklearn/model_selection/_validation.py\", line 680, in _fit_and_score\n    estimator.fit(X_train, y_train, **fit_params)\n  File \"/databricks/python/lib/python3.9/site-packages/sklearn/linear_model/_logistic.py\", line 1461, in fit\n    solver = _check_solver(self.solver, self.penalty, self.dual)\n  File \"/databricks/python/lib/python3.9/site-packages/sklearn/linear_model/_logistic.py\", line 447, in _check_solver\n    raise ValueError(\nValueError: Solver lbfgs supports only 'l2' or 'none' penalties, got elasticnet penalty.\n\n--------------------------------------------------------------------------------\n150 fits failed with the following error:\nTraceback (most recent call last):\n  File \"/databricks/python/lib/python3.9/site-packages/sklearn/model_selection/_validation.py\", line 680, in _fit_and_score\n    estimator.fit(X_train, y_train, **fit_params)\n  File \"/databricks/python/lib/python3.9/site-packages/sklearn/linear_model/_logistic.py\", line 1461, in fit\n    solver = _check_solver(self.solver, self.penalty, self.dual)\n  File \"/databricks/python/lib/python3.9/site-packages/sklearn/linear_model/_logistic.py\", line 447, in _check_solver\n    raise ValueError(\nValueError: Solver newton-cg supports only 'l2' or 'none' penalties, got l1 penalty.\n\n--------------------------------------------------------------------------------\n180 fits failed with the following error:\nTraceback (most recent call last):\n  File \"/databricks/python/lib/python3.9/site-packages/sklearn/model_selection/_validation.py\", line 680, in _fit_and_score\n    estimator.fit(X_train, y_train, **fit_params)\n  File \"/databricks/python/lib/python3.9/site-packages/sklearn/linear_model/_logistic.py\", line 1461, in fit\n    solver = _check_solver(self.solver, self.penalty, self.dual)\n  File \"/databricks/python/lib/python3.9/site-packages/sklearn/linear_model/_logistic.py\", line 447, in _check_solver\n    raise ValueError(\nValueError: Solver lbfgs supports only 'l2' or 'none' penalties, got l1 penalty.\n\n--------------------------------------------------------------------------------\n90 fits failed with the following error:\nTraceback (most recent call last):\n  File \"/databricks/python/lib/python3.9/site-packages/sklearn/model_selection/_validation.py\", line 680, in _fit_and_score\n    estimator.fit(X_train, y_train, **fit_params)\n  File \"/databricks/python/lib/python3.9/site-packages/sklearn/linear_model/_logistic.py\", line 1461, in fit\n    solver = _check_solver(self.solver, self.penalty, self.dual)\n  File \"/databricks/python/lib/python3.9/site-packages/sklearn/linear_model/_logistic.py\", line 464, in _check_solver\n    raise ValueError(\"penalty='none' is not supported for the liblinear solver\")\nValueError: penalty='none' is not supported for the liblinear solver\n\n--------------------------------------------------------------------------------\n60 fits failed with the following error:\nTraceback (most recent call last):\n  File \"/databricks/python/lib/python3.9/site-packages/sklearn/model_selection/_validation.py\", line 680, in _fit_and_score\n    estimator.fit(X_train, y_train, **fit_params)\n  File \"/databricks/python/lib/python3.9/site-packages/sklearn/linear_model/_logistic.py\", line 1461, in fit\n    solver = _check_solver(self.solver, self.penalty, self.dual)\n  File \"/databricks/python/lib/python3.9/site-packages/sklearn/linear_model/_logistic.py\", line 457, in _check_solver\n    raise ValueError(\nValueError: Only 'saga' solver supports elasticnet penalty, got solver=liblinear.\n\n--------------------------------------------------------------------------------\n30 fits failed with the following error:\nTraceback (most recent call last):\n  File \"/databricks/python/lib/python3.9/site-packages/sklearn/model_selection/_validation.py\", line 680, in _fit_and_score\n    estimator.fit(X_train, y_train, **fit_params)\n  File \"/databricks/python/lib/python3.9/site-packages/sklearn/linear_model/_logistic.py\", line 1461, in fit\n    solver = _check_solver(self.solver, self.penalty, self.dual)\n  File \"/databricks/python/lib/python3.9/site-packages/sklearn/linear_model/_logistic.py\", line 447, in _check_solver\n    raise ValueError(\nValueError: Solver newton-cg supports only 'l2' or 'none' penalties, got elasticnet penalty.\n\n  warnings.warn(some_fits_failed_message, FitFailedWarning)\n/databricks/python/lib/python3.9/site-packages/sklearn/model_selection/_search.py:969: UserWarning: One or more of the test scores are non-finite: [0.99881604        nan 0.99881604        nan 0.99866414 0.99873814\n 0.99772164 0.99656494        nan        nan        nan        nan\n 0.99881604        nan 0.99881604        nan        nan 0.99881604\n 0.99656494        nan 0.99881604 0.9984811  0.99881604 0.99656494\n 0.99881604        nan 0.99881604        nan 0.99881604 0.99881993\n 0.99727766        nan 0.99881604        nan 0.99881604 0.99881604\n        nan 0.99881604 0.99807605        nan 0.99880046 0.99883162\n 0.99807216 0.99861741        nan 0.99727376        nan        nan\n        nan        nan]\n  warnings.warn(\n"
     ]
    },
    {
     "output_type": "display_data",
     "data": {
      "text/html": [
       "<style scoped>\n",
       "  .ansiout {\n",
       "    display: block;\n",
       "    unicode-bidi: embed;\n",
       "    white-space: pre-wrap;\n",
       "    word-wrap: break-word;\n",
       "    word-break: break-all;\n",
       "    font-family: \"Menlo\", \"Monaco\", \"Consolas\", \"Ubuntu Mono\", \"Source Code Pro\", monospace;\n",
       "    font-size: 13px;\n",
       "    color: #555;\n",
       "    margin-left: 4px;\n",
       "    line-height: 19px;\n",
       "  }\n",
       "</style>"
      ]
     },
     "metadata": {
      "application/vnd.databricks.v1+output": {
       "arguments": {},
       "data": "",
       "errorSummary": "Cancelled",
       "errorTraceType": "html",
       "metadata": {},
       "type": "ipynbError"
      }
     },
     "output_type": "display_data"
    }
   ],
   "source": [
    "\n",
    "# define evaluation\n",
    "\n",
    "# define search space\n",
    "from sklearn.model_selection import RepeatedStratifiedKFold\n",
    "from sklearn.model_selection import RandomizedSearchCV\n",
    "from scipy.stats import loguniform\n",
    "# summarize result\n",
    "#print('Best Score: %s' % result.best_score_)\n",
    "#print('Best Hyperparameters: %s' % result.best_params_)\n",
    "cv = RepeatedStratifiedKFold(n_splits=10, n_repeats=3, random_state=1)\n",
    "space = dict()\n",
    "space['solver'] = ['newton-cg', 'lbfgs', 'liblinear']\n",
    "space['penalty'] = ['none', 'l1', 'l2', 'elasticnet']\n",
    "space['C'] = loguniform(1e-5, 100)\n",
    "\n",
    "# Set up your MLflow experiment\n",
    "mlflow.set_experiment(\"/Users/ismailyassine04@gmail.com/scikit_learn_experiment1\")\n",
    "\n",
    "# Start an MLflow run\n",
    "with mlflow.start_run():\n",
    "    # Create an instance of the Logistic Regression model\n",
    "    lr_model = LogisticRegression(random_state=None)\n",
    "\n",
    "    # Use RandomizedSearchCV to search for the best hyperparameters\n",
    "    search = RandomizedSearchCV(lr_model, space, n_iter=50, scoring='accuracy', n_jobs=-1, cv=cv, random_state=1)\n",
    "    best_lr_model = search.fit(x_train, y_train)\n",
    "    \n",
    "    # Train the best Logistic Regression model\n",
    "    train(best_lr_model, x_train, y_train)\n",
    "    \n",
    "    # Evaluate the best Logistic Regression model\n",
    "    evaluate(best_lr_model, x_test, y_test)\n",
    "    \n",
    "    # Log the trained Logistic Regression model\n",
    "    mlflow.sklearn.log_model(best_lr_model, \"log_reg_model\")\n",
    "    \n",
    "    # Print the run UUID\n",
    "    print(\"Model run: \", mlflow.active_run().info.run_uuid)\n",
    "\n",
    "# End the MLflow run\n",
    "mlflow.end_run()"
   ]
  },
  {
   "cell_type": "code",
   "execution_count": 0,
   "metadata": {
    "application/vnd.databricks.v1+cell": {
     "cellMetadata": {},
     "inputWidgets": {},
     "nuid": "484c7e86-82b2-4fea-aacf-15612b24dff7",
     "showTitle": false,
     "title": ""
    }
   },
   "outputs": [
    {
     "output_type": "display_data",
     "data": {
      "text/html": [
       "<style scoped>\n",
       "  .table-result-container {\n",
       "    max-height: 300px;\n",
       "    overflow: auto;\n",
       "  }\n",
       "  table, th, td {\n",
       "    border: 1px solid black;\n",
       "    border-collapse: collapse;\n",
       "  }\n",
       "  th, td {\n",
       "    padding: 5px;\n",
       "  }\n",
       "  th {\n",
       "    text-align: left;\n",
       "  }\n",
       "</style><div class='table-result-container'><table class='table-result'><thead style='background-color: white'><tr><th>run_id</th><th>experiment_id</th><th>status</th><th>artifact_uri</th><th>start_time</th><th>end_time</th><th>metrics.auc_score</th><th>metrics.eval_acc</th><th>metrics.train_acc</th><th>tags.mlflow.databricks.cluster.id</th><th>tags.mlflow.databricks.notebookRevisionID</th><th>tags.mlflow.user</th><th>tags.mlflow.source.name</th><th>tags.mlflow.databricks.notebookPath</th><th>tags.mlflow.databricks.notebookID</th><th>tags.mlflow.source.type</th><th>tags.mlflow.log-model.history</th><th>tags.mlflow.databricks.cluster.info</th><th>tags.mlflow.databricks.notebook.commandID</th><th>tags.mlflow.databricks.webappURL</th><th>tags.mlflow.databricks.cluster.libraries</th></tr></thead><tbody><tr><td>591c8c63b0b747dca8c4a852978e2053</td><td>3693745557549495</td><td>FINISHED</td><td>dbfs:/databricks/mlflow-tracking/3693745557549495/591c8c63b0b747dca8c4a852978e2053/artifacts</td><td>2022-09-04T15:27:57.445+0000</td><td>2022-09-04T15:28:03.993+0000</td><td>0.8534122528037835</td><td>0.9987382145736217</td><td>0.9989250829555545</td><td>0904-145106-k49uieja</td><td>1662305284250</td><td>fahd.kalloubi@gmail.com</td><td>/Users/fahd.kalloubi@gmail.com/MLflow-Introduction</td><td>/Users/fahd.kalloubi@gmail.com/MLflow-Introduction</td><td>2896948810282060</td><td>NOTEBOOK</td><td>[{\"artifact_path\":\"log_reg_model\",\"flavors\":{\"python_function\":{\"model_path\":\"model.pkl\",\"loader_module\":\"mlflow.sklearn\",\"python_version\":\"3.8.10\",\"env\":\"conda.yaml\"},\"sklearn\":{\"pickled_model\":\"model.pkl\",\"sklearn_version\":\"0.24.1\",\"serialization_format\":\"cloudpickle\"}},\"run_id\":\"591c8c63b0b747dca8c4a852978e2053\",\"utc_time_created\":\"2022-09-04 15:28:00.920656\",\"databricks_runtime\":\"10.4.x-scala2.12\"}]</td><td>{\"cluster_name\":\"UM6P-ME\",\"spark_version\":\"10.4.x-scala2.12\",\"node_type_id\":\"dev-tier-node\",\"driver_node_type_id\":\"dev-tier-node\",\"autotermination_minutes\":120,\"disk_spec\":{\"disk_count\":0},\"num_workers\":0}</td><td>6635712959458579325_5048262128303007165_cee5dc98a4b64b03b6e1eb8b1910ffb2</td><td>https://community.cloud.databricks.com</td><td>{\"installable\":[],\"redacted\":[]}</td></tr><tr><td>e9bdacca8b204911bfffd05b10dfc855</td><td>3693745557549495</td><td>FINISHED</td><td>dbfs:/databricks/mlflow-tracking/3693745557549495/e9bdacca8b204911bfffd05b10dfc855/artifacts</td><td>2022-06-20T10:16:57.083+0000</td><td>2022-06-20T10:17:03.061+0000</td><td>0.8534122528037835</td><td>0.9987382145736217</td><td>0.9989250829555545</td><td>0620-101313-s4q2hgnx</td><td>1655720223343</td><td>fahd.kalloubi@gmail.com</td><td>/Users/fahd.kalloubi@gmail.com/MLflow-Introduction</td><td>/Users/fahd.kalloubi@gmail.com/MLflow-Introduction</td><td>2896948810282060</td><td>NOTEBOOK</td><td>[{\"artifact_path\":\"log_reg_model\",\"flavors\":{\"python_function\":{\"model_path\":\"model.pkl\",\"loader_module\":\"mlflow.sklearn\",\"python_version\":\"3.8.10\",\"env\":\"conda.yaml\"},\"sklearn\":{\"pickled_model\":\"model.pkl\",\"sklearn_version\":\"0.24.1\",\"serialization_format\":\"cloudpickle\"}},\"run_id\":\"e9bdacca8b204911bfffd05b10dfc855\",\"utc_time_created\":\"2022-06-20 10:17:00.297711\",\"databricks_runtime\":\"10.4.x-scala2.12\"}]</td><td>{\"cluster_name\":\"UM6P-SD\",\"spark_version\":\"10.4.x-scala2.12\",\"node_type_id\":\"dev-tier-node\",\"driver_node_type_id\":\"dev-tier-node\",\"autotermination_minutes\":120,\"disk_spec\":{\"disk_count\":0},\"num_workers\":0}</td><td>8793208756980924392_7092050744124407699_f80938fc4ea04adc8f57f51834083ec7</td><td>https://community.cloud.databricks.com</td><td>{\"installable\":[],\"redacted\":[]}</td></tr><tr><td>8c4c7602eb654a8dbeaba72c5865b736</td><td>3693745557549495</td><td>RUNNING</td><td>dbfs:/databricks/mlflow-tracking/3693745557549495/8c4c7602eb654a8dbeaba72c5865b736/artifacts</td><td>2022-06-19T21:36:08.118+0000</td><td>null</td><td>null</td><td>null</td><td>null</td><td>0619-210426-9elms600</td><td>null</td><td>fahd.kalloubi@gmail.com</td><td>/Users/fahd.kalloubi@gmail.com/MLflow-Introduction</td><td>/Users/fahd.kalloubi@gmail.com/MLflow-Introduction</td><td>2896948810282060</td><td>NOTEBOOK</td><td>null</td><td>{\"cluster_name\":\"UM6P-DS-Cluster\",\"spark_version\":\"10.4.x-scala2.12\",\"node_type_id\":\"dev-tier-node\",\"driver_node_type_id\":\"dev-tier-node\",\"autotermination_minutes\":120,\"disk_spec\":{\"disk_count\":0},\"num_workers\":0}</td><td>2940594771173668889_7436315473862625537_750bf774e4234215879aaa21b8a3d1f9</td><td>https://community.cloud.databricks.com</td><td>{\"installable\":[],\"redacted\":[]}</td></tr><tr><td>3d7fe8522bc846a9b00ce6f4d2b09a8e</td><td>3693745557549495</td><td>FINISHED</td><td>dbfs:/databricks/mlflow-tracking/3693745557549495/3d7fe8522bc846a9b00ce6f4d2b09a8e/artifacts</td><td>2022-06-19T21:13:58.865+0000</td><td>2022-06-19T21:14:04.523+0000</td><td>0.8534122528037835</td><td>0.9987382145736217</td><td>0.9989250829555545</td><td>0619-210426-9elms600</td><td>1655673244792</td><td>fahd.kalloubi@gmail.com</td><td>/Users/fahd.kalloubi@gmail.com/MLflow-Introduction</td><td>/Users/fahd.kalloubi@gmail.com/MLflow-Introduction</td><td>2896948810282060</td><td>NOTEBOOK</td><td>[{\"artifact_path\":\"log_reg_model\",\"flavors\":{\"python_function\":{\"model_path\":\"model.pkl\",\"loader_module\":\"mlflow.sklearn\",\"python_version\":\"3.8.10\",\"env\":\"conda.yaml\"},\"sklearn\":{\"pickled_model\":\"model.pkl\",\"sklearn_version\":\"0.24.1\",\"serialization_format\":\"cloudpickle\"}},\"run_id\":\"3d7fe8522bc846a9b00ce6f4d2b09a8e\",\"utc_time_created\":\"2022-06-19 21:14:02.045517\",\"databricks_runtime\":\"10.4.x-scala2.12\"}]</td><td>{\"cluster_name\":\"UM6P-DS-Cluster\",\"spark_version\":\"10.4.x-scala2.12\",\"node_type_id\":\"dev-tier-node\",\"driver_node_type_id\":\"dev-tier-node\",\"autotermination_minutes\":120,\"disk_spec\":{\"disk_count\":0},\"num_workers\":0}</td><td>2940594771173668889_6159696386793884203_72e2f64eae8b4ff1b56a57238ab5963c</td><td>https://community.cloud.databricks.com</td><td>{\"installable\":[],\"redacted\":[]}</td></tr><tr><td>0877b81ae26641dd82fd1dc2523454cb</td><td>3693745557549495</td><td>FINISHED</td><td>dbfs:/databricks/mlflow-tracking/3693745557549495/0877b81ae26641dd82fd1dc2523454cb/artifacts</td><td>2022-06-19T21:13:26.304+0000</td><td>2022-06-19T21:13:32.129+0000</td><td>0.8534122528037835</td><td>0.9987382145736217</td><td>0.9989250829555545</td><td>0619-210426-9elms600</td><td>1655673212358</td><td>fahd.kalloubi@gmail.com</td><td>/Users/fahd.kalloubi@gmail.com/MLflow-Introduction</td><td>/Users/fahd.kalloubi@gmail.com/MLflow-Introduction</td><td>2896948810282060</td><td>NOTEBOOK</td><td>[{\"artifact_path\":\"log_reg_model\",\"flavors\":{\"python_function\":{\"model_path\":\"model.pkl\",\"loader_module\":\"mlflow.sklearn\",\"python_version\":\"3.8.10\",\"env\":\"conda.yaml\"},\"sklearn\":{\"pickled_model\":\"model.pkl\",\"sklearn_version\":\"0.24.1\",\"serialization_format\":\"cloudpickle\"}},\"run_id\":\"0877b81ae26641dd82fd1dc2523454cb\",\"utc_time_created\":\"2022-06-19 21:13:29.899815\",\"databricks_runtime\":\"10.4.x-scala2.12\"}]</td><td>{\"cluster_name\":\"UM6P-DS-Cluster\",\"spark_version\":\"10.4.x-scala2.12\",\"node_type_id\":\"dev-tier-node\",\"driver_node_type_id\":\"dev-tier-node\",\"autotermination_minutes\":120,\"disk_spec\":{\"disk_count\":0},\"num_workers\":0}</td><td>2940594771173668889_8012208054067343448_4ec833000b384473a0c6ab4f213b420c</td><td>https://community.cloud.databricks.com</td><td>{\"installable\":[],\"redacted\":[]}</td></tr><tr><td>8e8cd09e5fd54b818736f921783df252</td><td>3693745557549495</td><td>FINISHED</td><td>dbfs:/databricks/mlflow-tracking/3693745557549495/8e8cd09e5fd54b818736f921783df252/artifacts</td><td>2022-06-19T21:12:50.167+0000</td><td>2022-06-19T21:12:56.852+0000</td><td>0.8534122528037835</td><td>0.9987382145736217</td><td>0.9989250829555545</td><td>0619-210426-9elms600</td><td>1655673177180</td><td>fahd.kalloubi@gmail.com</td><td>/Users/fahd.kalloubi@gmail.com/MLflow-Introduction</td><td>/Users/fahd.kalloubi@gmail.com/MLflow-Introduction</td><td>2896948810282060</td><td>NOTEBOOK</td><td>[{\"artifact_path\":\"log_reg_model\",\"flavors\":{\"python_function\":{\"model_path\":\"model.pkl\",\"loader_module\":\"mlflow.sklearn\",\"python_version\":\"3.8.10\",\"env\":\"conda.yaml\"},\"sklearn\":{\"pickled_model\":\"model.pkl\",\"sklearn_version\":\"0.24.1\",\"serialization_format\":\"cloudpickle\"}},\"run_id\":\"8e8cd09e5fd54b818736f921783df252\",\"utc_time_created\":\"2022-06-19 21:12:54.279252\",\"databricks_runtime\":\"10.4.x-scala2.12\"}]</td><td>{\"cluster_name\":\"UM6P-DS-Cluster\",\"spark_version\":\"10.4.x-scala2.12\",\"node_type_id\":\"dev-tier-node\",\"driver_node_type_id\":\"dev-tier-node\",\"autotermination_minutes\":120,\"disk_spec\":{\"disk_count\":0},\"num_workers\":0}</td><td>2940594771173668889_6629791971369064200_d8c04f653cbe4f729a680c747f4864ba</td><td>https://community.cloud.databricks.com</td><td>{\"installable\":[],\"redacted\":[]}</td></tr><tr><td>a1ece9e249b44be595da5356113d2f5d</td><td>3693745557549495</td><td>FINISHED</td><td>dbfs:/databricks/mlflow-tracking/3693745557549495/a1ece9e249b44be595da5356113d2f5d/artifacts</td><td>2022-06-19T21:11:52.412+0000</td><td>2022-06-19T21:11:59.994+0000</td><td>0.8534122528037835</td><td>0.9987382145736217</td><td>0.9989250829555545</td><td>0619-210426-9elms600</td><td>1655673120375</td><td>fahd.kalloubi@gmail.com</td><td>/Users/fahd.kalloubi@gmail.com/MLflow-Introduction</td><td>/Users/fahd.kalloubi@gmail.com/MLflow-Introduction</td><td>2896948810282060</td><td>NOTEBOOK</td><td>[{\"artifact_path\":\"log_reg_model\",\"flavors\":{\"python_function\":{\"model_path\":\"model.pkl\",\"loader_module\":\"mlflow.sklearn\",\"python_version\":\"3.8.10\",\"env\":\"conda.yaml\"},\"sklearn\":{\"pickled_model\":\"model.pkl\",\"sklearn_version\":\"0.24.1\",\"serialization_format\":\"cloudpickle\"}},\"run_id\":\"a1ece9e249b44be595da5356113d2f5d\",\"utc_time_created\":\"2022-06-19 21:11:57.082004\",\"databricks_runtime\":\"10.4.x-scala2.12\"}]</td><td>{\"cluster_name\":\"UM6P-DS-Cluster\",\"spark_version\":\"10.4.x-scala2.12\",\"node_type_id\":\"dev-tier-node\",\"driver_node_type_id\":\"dev-tier-node\",\"autotermination_minutes\":120,\"disk_spec\":{\"disk_count\":0},\"num_workers\":0}</td><td>2940594771173668889_6395957657639436868_e85760a9a4e34b7097650a086c77fb35</td><td>https://community.cloud.databricks.com</td><td>{\"installable\":[],\"redacted\":[]}</td></tr><tr><td>e9a3c8a563c541a98bccf598c5786b9d</td><td>3693745557549495</td><td>FINISHED</td><td>dbfs:/databricks/mlflow-tracking/3693745557549495/e9a3c8a563c541a98bccf598c5786b9d/artifacts</td><td>2022-06-19T16:37:35.412+0000</td><td>2022-06-19T16:37:41.553+0000</td><td>0.8534122528037835</td><td>0.9987382145736217</td><td>0.9989250829555545</td><td>0619-160025-jvd2qbyt</td><td>1655656661760</td><td>fahd.kalloubi@gmail.com</td><td>/Users/fahd.kalloubi@gmail.com/MLflow-Introduction</td><td>/Users/fahd.kalloubi@gmail.com/MLflow-Introduction</td><td>2896948810282060</td><td>NOTEBOOK</td><td>[{\"artifact_path\":\"log_reg_model\",\"flavors\":{\"python_function\":{\"model_path\":\"model.pkl\",\"loader_module\":\"mlflow.sklearn\",\"python_version\":\"3.8.10\",\"env\":\"conda.yaml\"},\"sklearn\":{\"pickled_model\":\"model.pkl\",\"sklearn_version\":\"0.24.1\",\"serialization_format\":\"cloudpickle\"}},\"run_id\":\"e9a3c8a563c541a98bccf598c5786b9d\",\"utc_time_created\":\"2022-06-19 16:37:39.206769\",\"databricks_runtime\":\"10.4.x-scala2.12\"}]</td><td>{\"cluster_name\":\"UM6P-Intro\",\"spark_version\":\"10.4.x-scala2.12\",\"node_type_id\":\"dev-tier-node\",\"driver_node_type_id\":\"dev-tier-node\",\"autotermination_minutes\":120,\"disk_spec\":{\"disk_count\":0},\"num_workers\":0}</td><td>7017169050755816369_7569635596922072484_43035ad31da44c179fc919fc28e1bfea</td><td>https://community.cloud.databricks.com</td><td>{\"installable\":[],\"redacted\":[]}</td></tr></tbody></table></div>"
      ]
     },
     "metadata": {
      "application/vnd.databricks.v1+output": {
       "addedWidgets": {},
       "aggData": [],
       "aggError": "",
       "aggOverflow": false,
       "aggSchema": [],
       "aggSeriesLimitReached": false,
       "aggType": "",
       "arguments": {},
       "columnCustomDisplayInfos": {},
       "data": [
        [
         "591c8c63b0b747dca8c4a852978e2053",
         "3693745557549495",
         "FINISHED",
         "dbfs:/databricks/mlflow-tracking/3693745557549495/591c8c63b0b747dca8c4a852978e2053/artifacts",
         "2022-09-04T15:27:57.445+0000",
         "2022-09-04T15:28:03.993+0000",
         0.8534122528037835,
         0.9987382145736217,
         0.9989250829555545,
         "0904-145106-k49uieja",
         "1662305284250",
         "fahd.kalloubi@gmail.com",
         "/Users/fahd.kalloubi@gmail.com/MLflow-Introduction",
         "/Users/fahd.kalloubi@gmail.com/MLflow-Introduction",
         "2896948810282060",
         "NOTEBOOK",
         "[{\"artifact_path\":\"log_reg_model\",\"flavors\":{\"python_function\":{\"model_path\":\"model.pkl\",\"loader_module\":\"mlflow.sklearn\",\"python_version\":\"3.8.10\",\"env\":\"conda.yaml\"},\"sklearn\":{\"pickled_model\":\"model.pkl\",\"sklearn_version\":\"0.24.1\",\"serialization_format\":\"cloudpickle\"}},\"run_id\":\"591c8c63b0b747dca8c4a852978e2053\",\"utc_time_created\":\"2022-09-04 15:28:00.920656\",\"databricks_runtime\":\"10.4.x-scala2.12\"}]",
         "{\"cluster_name\":\"UM6P-ME\",\"spark_version\":\"10.4.x-scala2.12\",\"node_type_id\":\"dev-tier-node\",\"driver_node_type_id\":\"dev-tier-node\",\"autotermination_minutes\":120,\"disk_spec\":{\"disk_count\":0},\"num_workers\":0}",
         "6635712959458579325_5048262128303007165_cee5dc98a4b64b03b6e1eb8b1910ffb2",
         "https://community.cloud.databricks.com",
         "{\"installable\":[],\"redacted\":[]}"
        ],
        [
         "e9bdacca8b204911bfffd05b10dfc855",
         "3693745557549495",
         "FINISHED",
         "dbfs:/databricks/mlflow-tracking/3693745557549495/e9bdacca8b204911bfffd05b10dfc855/artifacts",
         "2022-06-20T10:16:57.083+0000",
         "2022-06-20T10:17:03.061+0000",
         0.8534122528037835,
         0.9987382145736217,
         0.9989250829555545,
         "0620-101313-s4q2hgnx",
         "1655720223343",
         "fahd.kalloubi@gmail.com",
         "/Users/fahd.kalloubi@gmail.com/MLflow-Introduction",
         "/Users/fahd.kalloubi@gmail.com/MLflow-Introduction",
         "2896948810282060",
         "NOTEBOOK",
         "[{\"artifact_path\":\"log_reg_model\",\"flavors\":{\"python_function\":{\"model_path\":\"model.pkl\",\"loader_module\":\"mlflow.sklearn\",\"python_version\":\"3.8.10\",\"env\":\"conda.yaml\"},\"sklearn\":{\"pickled_model\":\"model.pkl\",\"sklearn_version\":\"0.24.1\",\"serialization_format\":\"cloudpickle\"}},\"run_id\":\"e9bdacca8b204911bfffd05b10dfc855\",\"utc_time_created\":\"2022-06-20 10:17:00.297711\",\"databricks_runtime\":\"10.4.x-scala2.12\"}]",
         "{\"cluster_name\":\"UM6P-SD\",\"spark_version\":\"10.4.x-scala2.12\",\"node_type_id\":\"dev-tier-node\",\"driver_node_type_id\":\"dev-tier-node\",\"autotermination_minutes\":120,\"disk_spec\":{\"disk_count\":0},\"num_workers\":0}",
         "8793208756980924392_7092050744124407699_f80938fc4ea04adc8f57f51834083ec7",
         "https://community.cloud.databricks.com",
         "{\"installable\":[],\"redacted\":[]}"
        ],
        [
         "8c4c7602eb654a8dbeaba72c5865b736",
         "3693745557549495",
         "RUNNING",
         "dbfs:/databricks/mlflow-tracking/3693745557549495/8c4c7602eb654a8dbeaba72c5865b736/artifacts",
         "2022-06-19T21:36:08.118+0000",
         null,
         null,
         null,
         null,
         "0619-210426-9elms600",
         null,
         "fahd.kalloubi@gmail.com",
         "/Users/fahd.kalloubi@gmail.com/MLflow-Introduction",
         "/Users/fahd.kalloubi@gmail.com/MLflow-Introduction",
         "2896948810282060",
         "NOTEBOOK",
         null,
         "{\"cluster_name\":\"UM6P-DS-Cluster\",\"spark_version\":\"10.4.x-scala2.12\",\"node_type_id\":\"dev-tier-node\",\"driver_node_type_id\":\"dev-tier-node\",\"autotermination_minutes\":120,\"disk_spec\":{\"disk_count\":0},\"num_workers\":0}",
         "2940594771173668889_7436315473862625537_750bf774e4234215879aaa21b8a3d1f9",
         "https://community.cloud.databricks.com",
         "{\"installable\":[],\"redacted\":[]}"
        ],
        [
         "3d7fe8522bc846a9b00ce6f4d2b09a8e",
         "3693745557549495",
         "FINISHED",
         "dbfs:/databricks/mlflow-tracking/3693745557549495/3d7fe8522bc846a9b00ce6f4d2b09a8e/artifacts",
         "2022-06-19T21:13:58.865+0000",
         "2022-06-19T21:14:04.523+0000",
         0.8534122528037835,
         0.9987382145736217,
         0.9989250829555545,
         "0619-210426-9elms600",
         "1655673244792",
         "fahd.kalloubi@gmail.com",
         "/Users/fahd.kalloubi@gmail.com/MLflow-Introduction",
         "/Users/fahd.kalloubi@gmail.com/MLflow-Introduction",
         "2896948810282060",
         "NOTEBOOK",
         "[{\"artifact_path\":\"log_reg_model\",\"flavors\":{\"python_function\":{\"model_path\":\"model.pkl\",\"loader_module\":\"mlflow.sklearn\",\"python_version\":\"3.8.10\",\"env\":\"conda.yaml\"},\"sklearn\":{\"pickled_model\":\"model.pkl\",\"sklearn_version\":\"0.24.1\",\"serialization_format\":\"cloudpickle\"}},\"run_id\":\"3d7fe8522bc846a9b00ce6f4d2b09a8e\",\"utc_time_created\":\"2022-06-19 21:14:02.045517\",\"databricks_runtime\":\"10.4.x-scala2.12\"}]",
         "{\"cluster_name\":\"UM6P-DS-Cluster\",\"spark_version\":\"10.4.x-scala2.12\",\"node_type_id\":\"dev-tier-node\",\"driver_node_type_id\":\"dev-tier-node\",\"autotermination_minutes\":120,\"disk_spec\":{\"disk_count\":0},\"num_workers\":0}",
         "2940594771173668889_6159696386793884203_72e2f64eae8b4ff1b56a57238ab5963c",
         "https://community.cloud.databricks.com",
         "{\"installable\":[],\"redacted\":[]}"
        ],
        [
         "0877b81ae26641dd82fd1dc2523454cb",
         "3693745557549495",
         "FINISHED",
         "dbfs:/databricks/mlflow-tracking/3693745557549495/0877b81ae26641dd82fd1dc2523454cb/artifacts",
         "2022-06-19T21:13:26.304+0000",
         "2022-06-19T21:13:32.129+0000",
         0.8534122528037835,
         0.9987382145736217,
         0.9989250829555545,
         "0619-210426-9elms600",
         "1655673212358",
         "fahd.kalloubi@gmail.com",
         "/Users/fahd.kalloubi@gmail.com/MLflow-Introduction",
         "/Users/fahd.kalloubi@gmail.com/MLflow-Introduction",
         "2896948810282060",
         "NOTEBOOK",
         "[{\"artifact_path\":\"log_reg_model\",\"flavors\":{\"python_function\":{\"model_path\":\"model.pkl\",\"loader_module\":\"mlflow.sklearn\",\"python_version\":\"3.8.10\",\"env\":\"conda.yaml\"},\"sklearn\":{\"pickled_model\":\"model.pkl\",\"sklearn_version\":\"0.24.1\",\"serialization_format\":\"cloudpickle\"}},\"run_id\":\"0877b81ae26641dd82fd1dc2523454cb\",\"utc_time_created\":\"2022-06-19 21:13:29.899815\",\"databricks_runtime\":\"10.4.x-scala2.12\"}]",
         "{\"cluster_name\":\"UM6P-DS-Cluster\",\"spark_version\":\"10.4.x-scala2.12\",\"node_type_id\":\"dev-tier-node\",\"driver_node_type_id\":\"dev-tier-node\",\"autotermination_minutes\":120,\"disk_spec\":{\"disk_count\":0},\"num_workers\":0}",
         "2940594771173668889_8012208054067343448_4ec833000b384473a0c6ab4f213b420c",
         "https://community.cloud.databricks.com",
         "{\"installable\":[],\"redacted\":[]}"
        ],
        [
         "8e8cd09e5fd54b818736f921783df252",
         "3693745557549495",
         "FINISHED",
         "dbfs:/databricks/mlflow-tracking/3693745557549495/8e8cd09e5fd54b818736f921783df252/artifacts",
         "2022-06-19T21:12:50.167+0000",
         "2022-06-19T21:12:56.852+0000",
         0.8534122528037835,
         0.9987382145736217,
         0.9989250829555545,
         "0619-210426-9elms600",
         "1655673177180",
         "fahd.kalloubi@gmail.com",
         "/Users/fahd.kalloubi@gmail.com/MLflow-Introduction",
         "/Users/fahd.kalloubi@gmail.com/MLflow-Introduction",
         "2896948810282060",
         "NOTEBOOK",
         "[{\"artifact_path\":\"log_reg_model\",\"flavors\":{\"python_function\":{\"model_path\":\"model.pkl\",\"loader_module\":\"mlflow.sklearn\",\"python_version\":\"3.8.10\",\"env\":\"conda.yaml\"},\"sklearn\":{\"pickled_model\":\"model.pkl\",\"sklearn_version\":\"0.24.1\",\"serialization_format\":\"cloudpickle\"}},\"run_id\":\"8e8cd09e5fd54b818736f921783df252\",\"utc_time_created\":\"2022-06-19 21:12:54.279252\",\"databricks_runtime\":\"10.4.x-scala2.12\"}]",
         "{\"cluster_name\":\"UM6P-DS-Cluster\",\"spark_version\":\"10.4.x-scala2.12\",\"node_type_id\":\"dev-tier-node\",\"driver_node_type_id\":\"dev-tier-node\",\"autotermination_minutes\":120,\"disk_spec\":{\"disk_count\":0},\"num_workers\":0}",
         "2940594771173668889_6629791971369064200_d8c04f653cbe4f729a680c747f4864ba",
         "https://community.cloud.databricks.com",
         "{\"installable\":[],\"redacted\":[]}"
        ],
        [
         "a1ece9e249b44be595da5356113d2f5d",
         "3693745557549495",
         "FINISHED",
         "dbfs:/databricks/mlflow-tracking/3693745557549495/a1ece9e249b44be595da5356113d2f5d/artifacts",
         "2022-06-19T21:11:52.412+0000",
         "2022-06-19T21:11:59.994+0000",
         0.8534122528037835,
         0.9987382145736217,
         0.9989250829555545,
         "0619-210426-9elms600",
         "1655673120375",
         "fahd.kalloubi@gmail.com",
         "/Users/fahd.kalloubi@gmail.com/MLflow-Introduction",
         "/Users/fahd.kalloubi@gmail.com/MLflow-Introduction",
         "2896948810282060",
         "NOTEBOOK",
         "[{\"artifact_path\":\"log_reg_model\",\"flavors\":{\"python_function\":{\"model_path\":\"model.pkl\",\"loader_module\":\"mlflow.sklearn\",\"python_version\":\"3.8.10\",\"env\":\"conda.yaml\"},\"sklearn\":{\"pickled_model\":\"model.pkl\",\"sklearn_version\":\"0.24.1\",\"serialization_format\":\"cloudpickle\"}},\"run_id\":\"a1ece9e249b44be595da5356113d2f5d\",\"utc_time_created\":\"2022-06-19 21:11:57.082004\",\"databricks_runtime\":\"10.4.x-scala2.12\"}]",
         "{\"cluster_name\":\"UM6P-DS-Cluster\",\"spark_version\":\"10.4.x-scala2.12\",\"node_type_id\":\"dev-tier-node\",\"driver_node_type_id\":\"dev-tier-node\",\"autotermination_minutes\":120,\"disk_spec\":{\"disk_count\":0},\"num_workers\":0}",
         "2940594771173668889_6395957657639436868_e85760a9a4e34b7097650a086c77fb35",
         "https://community.cloud.databricks.com",
         "{\"installable\":[],\"redacted\":[]}"
        ],
        [
         "e9a3c8a563c541a98bccf598c5786b9d",
         "3693745557549495",
         "FINISHED",
         "dbfs:/databricks/mlflow-tracking/3693745557549495/e9a3c8a563c541a98bccf598c5786b9d/artifacts",
         "2022-06-19T16:37:35.412+0000",
         "2022-06-19T16:37:41.553+0000",
         0.8534122528037835,
         0.9987382145736217,
         0.9989250829555545,
         "0619-160025-jvd2qbyt",
         "1655656661760",
         "fahd.kalloubi@gmail.com",
         "/Users/fahd.kalloubi@gmail.com/MLflow-Introduction",
         "/Users/fahd.kalloubi@gmail.com/MLflow-Introduction",
         "2896948810282060",
         "NOTEBOOK",
         "[{\"artifact_path\":\"log_reg_model\",\"flavors\":{\"python_function\":{\"model_path\":\"model.pkl\",\"loader_module\":\"mlflow.sklearn\",\"python_version\":\"3.8.10\",\"env\":\"conda.yaml\"},\"sklearn\":{\"pickled_model\":\"model.pkl\",\"sklearn_version\":\"0.24.1\",\"serialization_format\":\"cloudpickle\"}},\"run_id\":\"e9a3c8a563c541a98bccf598c5786b9d\",\"utc_time_created\":\"2022-06-19 16:37:39.206769\",\"databricks_runtime\":\"10.4.x-scala2.12\"}]",
         "{\"cluster_name\":\"UM6P-Intro\",\"spark_version\":\"10.4.x-scala2.12\",\"node_type_id\":\"dev-tier-node\",\"driver_node_type_id\":\"dev-tier-node\",\"autotermination_minutes\":120,\"disk_spec\":{\"disk_count\":0},\"num_workers\":0}",
         "7017169050755816369_7569635596922072484_43035ad31da44c179fc919fc28e1bfea",
         "https://community.cloud.databricks.com",
         "{\"installable\":[],\"redacted\":[]}"
        ]
       ],
       "datasetInfos": [],
       "dbfsResultPath": null,
       "isJsonSchema": true,
       "metadata": {},
       "overflow": false,
       "plotOptions": {
        "customPlotOptions": {},
        "displayType": "table",
        "pivotAggregation": null,
        "pivotColumns": null,
        "xColumns": null,
        "yColumns": null
       },
       "removedWidgets": [],
       "schema": [
        {
         "metadata": "{}",
         "name": "run_id",
         "type": "\"string\""
        },
        {
         "metadata": "{}",
         "name": "experiment_id",
         "type": "\"string\""
        },
        {
         "metadata": "{}",
         "name": "status",
         "type": "\"string\""
        },
        {
         "metadata": "{}",
         "name": "artifact_uri",
         "type": "\"string\""
        },
        {
         "metadata": "{}",
         "name": "start_time",
         "type": "\"timestamp\""
        },
        {
         "metadata": "{}",
         "name": "end_time",
         "type": "\"timestamp\""
        },
        {
         "metadata": "{}",
         "name": "metrics.auc_score",
         "type": "\"double\""
        },
        {
         "metadata": "{}",
         "name": "metrics.eval_acc",
         "type": "\"double\""
        },
        {
         "metadata": "{}",
         "name": "metrics.train_acc",
         "type": "\"double\""
        },
        {
         "metadata": "{}",
         "name": "tags.mlflow.databricks.cluster.id",
         "type": "\"string\""
        },
        {
         "metadata": "{}",
         "name": "tags.mlflow.databricks.notebookRevisionID",
         "type": "\"string\""
        },
        {
         "metadata": "{}",
         "name": "tags.mlflow.user",
         "type": "\"string\""
        },
        {
         "metadata": "{}",
         "name": "tags.mlflow.source.name",
         "type": "\"string\""
        },
        {
         "metadata": "{}",
         "name": "tags.mlflow.databricks.notebookPath",
         "type": "\"string\""
        },
        {
         "metadata": "{}",
         "name": "tags.mlflow.databricks.notebookID",
         "type": "\"string\""
        },
        {
         "metadata": "{}",
         "name": "tags.mlflow.source.type",
         "type": "\"string\""
        },
        {
         "metadata": "{}",
         "name": "tags.mlflow.log-model.history",
         "type": "\"string\""
        },
        {
         "metadata": "{}",
         "name": "tags.mlflow.databricks.cluster.info",
         "type": "\"string\""
        },
        {
         "metadata": "{}",
         "name": "tags.mlflow.databricks.notebook.commandID",
         "type": "\"string\""
        },
        {
         "metadata": "{}",
         "name": "tags.mlflow.databricks.webappURL",
         "type": "\"string\""
        },
        {
         "metadata": "{}",
         "name": "tags.mlflow.databricks.cluster.libraries",
         "type": "\"string\""
        }
       ],
       "type": "table"
      }
     },
     "output_type": "display_data"
    }
   ],
   "source": [
    "all_runs = mlflow.search_runs(max_results=10)  # Note : This is pandas dataframe\n",
    "display(all_runs)"
   ]
  },
  {
   "cell_type": "markdown",
   "metadata": {
    "application/vnd.databricks.v1+cell": {
     "cellMetadata": {},
     "inputWidgets": {},
     "nuid": "52230943-0dd9-4d07-b541-d5fcd525da8f",
     "showTitle": false,
     "title": ""
    }
   },
   "source": [
    "TAF: \n",
    "\n",
    "1. réexécutez la cellule 18 en utilisant d'autres modèle ML de SKlearn \n",
    "2. comparez vos résultats en utilisant l'outil de comparaison de MLFlow"
   ]
  },
  {
   "cell_type": "code",
   "execution_count": 0,
   "metadata": {
    "application/vnd.databricks.v1+cell": {
     "cellMetadata": {
      "byteLimit": 2048000,
      "rowLimit": 10000
     },
     "inputWidgets": {},
     "nuid": "53dc6a62-564b-4db6-9bb4-62f57a2c26e5",
     "showTitle": false,
     "title": ""
    }
   },
   "outputs": [
    {
     "output_type": "display_data",
     "data": {
      "text/html": [
       "<style scoped>\n",
       "  .ansiout {\n",
       "    display: block;\n",
       "    unicode-bidi: embed;\n",
       "    white-space: pre-wrap;\n",
       "    word-wrap: break-word;\n",
       "    word-break: break-all;\n",
       "    font-family: \"Menlo\", \"Monaco\", \"Consolas\", \"Ubuntu Mono\", \"Source Code Pro\", monospace;\n",
       "    font-size: 13px;\n",
       "    color: #555;\n",
       "    margin-left: 4px;\n",
       "    line-height: 19px;\n",
       "  }\n",
       "</style>"
      ]
     },
     "metadata": {
      "application/vnd.databricks.v1+output": {
       "arguments": {},
       "data": "",
       "errorSummary": "Cancelled",
       "errorTraceType": "html",
       "metadata": {},
       "type": "ipynbError"
      }
     },
     "output_type": "display_data"
    }
   ],
   "source": [
    "We are going to test Support vector Machine and Random Forest models instead of logistic regresion and compare the results"
   ]
  },
  {
   "cell_type": "code",
   "execution_count": 0,
   "metadata": {
    "application/vnd.databricks.v1+cell": {
     "cellMetadata": {
      "byteLimit": 2048000,
      "rowLimit": 10000
     },
     "inputWidgets": {},
     "nuid": "557e4e7f-be3a-41d1-ab3b-7b8c1d8f6983",
     "showTitle": false,
     "title": ""
    }
   },
   "outputs": [
    {
     "output_type": "stream",
     "name": "stdout",
     "output_type": "stream",
     "text": [
      "Train Accuracy: 99.943%\nAuc Score: 83.833%\nEval Accuracy: 99.877%\n"
     ]
    },
    {
     "output_type": "stream",
     "name": "stderr",
     "output_type": "stream",
     "text": [
      "/databricks/python/lib/python3.9/site-packages/sklearn/utils/deprecation.py:87: FutureWarning: Function plot_roc_curve is deprecated; Function :func:`plot_roc_curve` is deprecated in 1.0 and will be removed in 1.2. Use one of the class methods: :meth:`sklearn.metric.RocCurveDisplay.from_predictions` or :meth:`sklearn.metric.RocCurveDisplay.from_estimator`.\n  warnings.warn(msg, category=FutureWarning)\n"
     ]
    },
    {
     "output_type": "display_data",
     "data": {
      "image/png": "[encoded data removed]"
     },
     "metadata": {
      "application/vnd.databricks.v1+output": {
       "addedWidgets": {},
       "arguments": {},
       "data": "data:image/png;base64,iVBORw0KGgoAAAANSUhEUgAAAYIAAAEGCAYAAABo25JHAAAAOXRFWHRTb2Z0d2FyZQBNYXRwbG90bGliIHZlcnNpb24zLjUuMSwgaHR0cHM6Ly9tYXRwbG90bGliLm9yZy/YYfK9AAAACXBIWXMAAAsTAAALEwEAmpwYAAAqhUlEQVR4nO3deXwX1b3/8ddbRHEB2wpaZBcQZUciVWst0GJxpV4taK9Wa73eal1al1taN6pdrNr+cFe0VNFWqVa86MXaKqDWDQgisoiliBjEGql1gaIgn98fM4lfQpLvBPL9hiTv5+ORR2Y5M/OZ+SbfM+ecmXMUEZiZWfO1XUMHYGZmDcsZgZlZM+eMwMysmXNGYGbWzDkjMDNr5rZv6ADqqm3bttG1a9eGDsPMrFEpLS19JyLaVbeu0WUEXbt2Zc6cOQ0dhplZoyLp9ZrWuWrIzKyZc0ZgZtbMOSMwM2vmnBGYmTVzzgjMzJq5gmUEkiZKelvSghrWS9L1kpZKmi9p/0LFYmZmNStkieBOYGQt6w8HeqY/ZwC3FDAWMzOrQcHeI4iIpyR1rSXJKGBSJP1gPy/pM5LaR8SqQsVkZs3L719Ywf/OW9nQYdSb3nu14fKj+9T7fhuyjaAD8EbOfFm6bDOSzpA0R9Kc8vLyogRnZo3f/85byaJV7zd0GNu8RvFmcURMACYAlJSUeCQdsyagGHfri1a9T+/2bZj83wcV9DiNXUOWCFYCnXLmO6bLzKwZKMbdeu/2bRg1sNqKBsvRkCWCqcDZku4DvgC85/YBs6Yhy92+79a3HQXLCCTdCwwF2koqAy4HWgJExK3ANOAIYCmwFvh2oWIxs+KquNvv3b5NjWl8t77tKORTQyfmWR/A9wp1fLPmriGfmPHdfuPiN4vNmqiGfGLGd/uNS6N4ashsW9DYnkn3Xbll5RKBWUaN7Zl035VbVi4RWJNTqDt332FbU+USgTU5hbpz9x22NVUuEVi92hbq0X3nblY3mUoEkraTNEjSkZKGS9qj0IFZ47Qt1KP7zt2sbmotEUjqDvwQ+CrwN6AcaAXsI2ktcBtwV0RsLHSg1vD8tqhZ05SvauinJOME/Hf6AliltFTwTeBk4K7ChGfbEr8tatY01ZoR1PZ2cES8DYyv74Cao22hXj0L3+2bNU1b/NSQpBH1GUhzti3Uq2fhu32zpmlrnhr6DdC5vgJpTqqWAHynbWYNKV9j8dSaVgG71384zUPVunbfaZtZQ8pXIvgScBLwYZXlAoYUJKImKrcU4BKAmW1L8mUEzwNrI+LJqiskLSlMSE1TbinAJQAz25bke2ro8FrWHVr/4TRutT3941KAmW2r3NdQPart6R+XAsxsW9Ws+xqq7+f3fddvZo1Rsy4R1Pfz+77rN7PGqNmWCH7/wgpeeO2ffKHb53wHb2bNWuYSgaRxtc03NhVVQr6DN7Pmri4lgtI8841CRbvAolXv84Vun+ObX/DL0WbWvGUuEUTEw7XNNxa5z/O7NGBmlr+LiRuAqGl9RJxb7xEVgZ/sMTP7VL6qoTlFicLMzBpMvjeLNxlwRtLOEbG2sCEVTu6TQmZmlsg6ZvFBkhYBr6TzAyTdXNDICsBPCpmZbS5rY/F44GvAaoCIeAloVH0N5ZYG/KSQmdmn6vLU0BtVFn1Sz7EUlEsDZmbVy/oewRuSDgZCUkvgPGBx4cIqDJcGzMw2l7VE8F3ge0AH4E1gYDpvZmaNXKaMICLeiYj/jIg9I6JdRJwUEavzbSdppKQlkpZKGlvN+s6SZkh6UdJ8SUdsyUmYmdmWy/rU0N6SHpZULultSf8rae8827QAbgIOB3oDJ0rqXSXZJcAfImIQcALQ6J5EMjNr7LJWDf0e+APQHtgLuB+4N882Q4ClEbEsIj4G7gNGVUkTQJt0ejeSaiczMyuirBnBzhFxd0RsSH/uAVrl2aYDkPukUVm6LNc44CRJZcA04JzqdiTpDElzJM0pLy/PGLKZmWVRa0Yg6XOSPgc8KmmspK6Sukj6H5Iv7q11InBnRHQEjgDulrRZTBExISJKIqKkXbt29XBYMzOrkO/x0VKS6hul8/+dsy6AH9Wy7UqgU858x3RZru8AIwEi4jlJrYC2wNt54jIzs3qSr6+hblux79lAT0ndSDKAE4BvVkmzAvgKcKek/Uiqm1z3Y2ZWRJkHppHUl+Tpn8q2gYiYVFP6iNgg6WzgMaAFMDEiFkq6ApgTEVOBC4DbJf2ApIRxakTU2O21mZnVv0wZgaTLgaEkGcE0kkdC/wrUmBEARMQ0qrQlRMRlOdOLgC/WKWIzM6tXWZ8aOp6kCuetiPg2MIDkcU8zM2vksmYE/46IjcAGSW1IGnM75dnGzMwagaxtBHMkfQa4neRJog+B5woVlJmZFU+mjCAizkonb5X0J6BNRMwvXFhmZlYs+Qav37+2dRExt/5DMjOzYspXIvhVLesCGF6PsZiZWQPI90LZsGIFYmZmDSPzUJVmZtY0OSMwM2vmnBGYmTVzWUcok6STJF2WzneWNKSwoZmZWTFkLRHcDBxEMn4AwAckw1CamVkjl/XN4i9ExP6SXgSIiHcl7VDAuMzMrEiylgjWp4PRB4CkdsDGgkVlZmZFkzUjuB6YAuwh6WckXVD/vGBRmZlZ0WTta+h3kkpJuqIW8PWIWFzQyMzMrCiyDkxzPXBfRLiB2MysiclaNVQKXCLp75KulVRSyKDMzKx4MmUEEXFXRBwBHAAsAX4p6W8FjczMzIqirm8W9wD2BboAr9R/OGZmVmxZ3yy+Oi0BXAEsAEoi4uiCRmZmZkWR9YWyvwMHRcQ7hQzGzMyKL98IZftGxCvAbKCzpM656z1CmZlZ45evRHA+cAbVj1TmEcrMzJqAfCOUnZFOHh4R63LXSWpVsKjMzKxosj419GzGZWZm1sjkayP4PNAB2EnSIJLuJQDaADsXODYzMyuCfG0EXwNOBToCv85Z/gHw4wLFZGZmRZSvjeAu4C5Jx0XEH4sUk5mZFVG+qqGTIuIeoKuk86uuj4hfV7OZmZk1Ivkai3dJf+8KtK7mp1aSRkpaImmppLE1pBktaZGkhZJ+X4fYzcysHuSrGrot/f2Tuu44HdHsJmAEUAbMljQ1IhblpOkJ/Aj4Yjr85R51PY6ZmW2duvQ11EZSS0lPSCqXdFKezYYASyNiWUR8DNwHjKqS5r+AmyLiXYCIeLuuJ2BmZlsn63sEh0XE+8BRwHKSXkgvyrNNB+CNnPmydFmufYB9JD0j6XlJI6vbkaQzJM2RNKe8vDxjyGZmlkXWjKCiCulI4P6IeK+ejr890BMYCpwI3C7pM1UTRcSEiCiJiJJ27drV06HNzAyyZwSPSHoFGAw8IakdsC7PNiuBTjnzHdNlucqAqRGxPiJeA14lyRjMzKxIso5QNhY4mGQcgvXAGjav769qNtBTUjdJOwAnAFOrpHmIpDSApLYkVUXLsgZvZmZbL+vg9S2Bk4BDJQE8Cdxa2zYRsUHS2cBjQAtgYkQslHQFMCcipqbrDpO0CPgEuCgiVm/x2ZiZWZ1lHZjmFqAlcHM6f3K67PTaNoqIacC0Kssuy5kOkq6uN3tZzczMiiNrRnBARAzImZ8u6aVCBGRmZsWVtbH4E0ndK2Yk7U1SlWNmZo1c1hLBRcAMSctIuqLuAny7YFGZmVnR5M0I0kdF3yN5U7iiC4glEfFRIQMzM7PiqLVqSNLpwELgBmAe0DUi5jsTMDNrOvKVCL4P9ImI8rRd4Hds/i6AmZk1Yvkaiz+OiHKAiFgG7Fj4kMzMrJjylQg6Srq+pvmIOLcwYZmZWbHkywiq9jBaWqhAzMysYWQZs9jMzJqwfE8N3S6pbw3rdpF0mqT/LExoZmZWDPmqhm4CLpPUD1gAlAOtSLqKbgNMJHmSyMzMGql8VUPzgNGSdgVKgPbAv4HFEbGk8OGZmVmhZepiIiI+BGYWNhQzM2sIWTudMzOzJsoZgZlZM1enjEDSzoUKxMzMGkamjEDSwelwkq+k8wMk3ZxnMzMzawSylgj+H/A1YDVARLwEHFqooMzMrHgyVw1FxBtVFnmEMjOzJiDrCGVvSDoYCEktgfOAxYULy8zMiiVrieC7wPeADsBKYCBwVoFiMjOzIspaIugVEZv0KSTpi8Az9R+SmZkVU9YSwQ0Zl5mZWSNTa4lA0kHAwUA7SefnrGoDtChkYGZmVhz5qoZ2AHZN07XOWf4+cHyhgjIzs+LJ1/vok8CTku6MiNeLFJOZmRVR1sbitZKuAfqQjEcAQEQML0hUZmZWNFkbi39H0r1EN+AnwHJgdoFiMjOzIsqaEeweEb8B1kfEkxFxGuDSgJlZE5C1amh9+nuVpCOBN4HPFSYkMzMrpqwlgp9K2g24ALgQuAP4fr6NJI2UtETSUklja0l3nKSQVJIxHjMzqydZh6p8JJ18DxgGlW8W10hSC+AmYARQBsyWNDUiFlVJ15qk76IX6ha6mZnVh1pLBJJaSDpR0oWS+qbLjpL0LHBjnn0PAZZGxLKI+Bi4DxhVTborgV8C6+oevpmZba18VUO/AU4Hdgeul3QPcC1wdUQMyrNtByC36+qydFklSfsDnSLi/2rbkaQzJM2RNKe8vDzPYc3MrC7yVQ2VAP0jYqOkVsBbQPeIWL21B5a0HfBr4NR8aSNiAjABoKSkJLb22GZm9ql8JYKPI2IjQESsA5bVIRNYCXTKme+YLqvQGugLzJS0HDgQmOoGYzOz4spXIthX0vx0WkD3dF5ARET/WradDfSU1I0kAzgB+GbFyoh4D2hbMS9pJnBhRMyp81mYmdkWy5cR7LelO46IDZLOBh4j6al0YkQslHQFMCcipm7pvs3MrP7k63Ruqzqai4hpwLQqyy6rIe3QrTmWmZltmcyD15uZWdPkjMDMrJnLnBFI2klSr0IGY2ZmxZcpI5B0NDAP+FM6P1CSG3vNzJqArCWCcSRdRvwLICLmkYxNYGZmjVzWjGB9+tx/Lr/ha2bWBGQdj2ChpG8CLST1BM4Fni1cWGZmVixZSwTnkIxX/BHwe5LuqL9foJjMzKyIspYI9o2Ii4GLCxmMmZkVX9YSwa8kLZZ0ZcW4BGZm1jRkyggiYhjJyGTlwG2SXpZ0SUEjMzOzosj8QllEvBUR1wPfJXmnoNo+g8zMrHHJ+kLZfpLGSXoZuIHkiaGOBY3MzMyKImtj8URgMvC1iHizgPGYmVmRZcoIIuKgQgdiZmYNo9aMQNIfImJ0WiWU+yZxlhHKzMysEchXIjgv/X1UoQMxM7OGUWtjcUSsSifPiojXc3+AswofnpmZFVrWx0dHVLPs8PoMxMzMGka+NoIzSe7895Y0P2dVa+CZQgZmZmbFka+N4PfAo8AvgLE5yz+IiH8WLCozMyuafBlBRMRySd+rukLS55wZmJk1fllKBEcBpSSPjypnXQB7FyguMzMrklozgog4Kv3tYSnNzJqorH0NfVHSLun0SZJ+LalzYUMzM7NiyPr46C3AWkkDgAuAvwN3FywqMzMrmqwZwYaICGAUcGNE3ETyCKmZmTVyWXsf/UDSj4CTgS9J2g5oWbiwzMysWLKWCMaQDFx/WkS8RTIWwTUFi8rMzIom61CVbwG/A3aTdBSwLiImFTQyMzMriqxPDY0GZgHfAEYDL0g6PsN2IyUtkbRU0thq1p8vaZGk+ZKekNSlridgZmZbJ2sbwcXAARHxNoCkdsDjwAM1bSCpBXATSYd1ZcBsSVMjYlFOsheBkohYm/ZrdDVJNZSZmRVJ1jaC7SoygdTqDNsOAZZGxLKI+Bi4j+Spo0oRMSMi1qazz+NxkM3Mii5rieBPkh4D7k3nxwDT8mzTAXgjZ74M+EIt6b9D0sHdZiSdAZwB0Lmz32MzM6tPWccsvkjSfwCHpIsmRMSU+gpC0klACfDlGo4/AZgAUFJSEtWlMTOzLZNvPIKewLVAd+Bl4MKIWJlx3yuBTjnzHdNlVY/xVZI2iC9HxEcZ921mZvUkXz3/ROAR4DiSHkhvqMO+ZwM9JXWTtANwAjA1N4GkQcBtwDFV2iDMzKxI8lUNtY6I29PpJZLmZt1xRGyQdDbwGNACmBgRCyVdAcyJiKkkL6XtCtwvCWBFRBxT57MwM7Mtli8jaJXetVeMQ7BT7nxE1JoxRMQ0qjQqR8RlOdNfrXPEZmZWr/JlBKuAX+fMv5UzH8DwQgRlZmbFk29gmmHFCsTMzBpG1hfKzMysiXJGYGbWzDkjMDNr5rL2Pqp0rOLL0vnOkoYUNjQzMyuGrCWCm4GDgBPT+Q9IehY1M7NGLmunc1+IiP0lvQgQEe+mbwubmVkjl7VEsD4dXyCgcjyCjQWLyszMiiZrRnA9MAXYQ9LPgL8CPy9YVGZmVjRZu6H+naRS4Csk3Ut8PSIWFzQyMzMrikwZgaTOwFrg4dxlEbGiUIGZmVlxZG0s/j+S9gEBrYBuwBKgT4HiMjOzIslaNdQvd17S/sBZBYnIzMyKaoveLE67n65t/GEzM2sksrYRnJ8zux2wP/BmQSIyM7OiytpG0DpnegNJm8Ef6z8cMzMrtrwZQfoiWeuIuLAI8ZiZWZHV2kYgafuI+AT4YpHiMTOzIstXIphF0h4wT9JU4H5gTcXKiHiwgLGZmVkRZG0jaAWsJhmjuOJ9ggCcEZiZNXL5MoI90ieGFvBpBlAhChaVNVnr16+nrKyMdevWNXQoZk1Sq1at6NixIy1btsy8Tb6MoAWwK5tmABWcEVidlZWV0bp1a7p27YpU3Z+VmW2piGD16tWUlZXRrVu3zNvlywhWRcQVWxea2afWrVvnTMCsQCSx++67U15eXqft8r1Z7P9Wq3fOBMwKZ0v+v/JlBF/ZslDMzKyxqDUjiIh/FisQs2L52c9+Rp8+fejfvz8DBw7khRdeqDHtnDlzOPfccwEYN24c11577WZpLrvsMh5//HEAxo8fz9q1a6vd18yZMznqqKPq4QyyO/XUU+nWrRsDBw5kwIABPPHEE5XrPv74Y77//e/To0cPevbsyahRoygrK6tc/9Zbb3HCCSfQvXt3Bg8ezBFHHMGrr7662TGypiuk8ePHM2nSpMr5DRs20K5dO8aOHbtJuq5du/LOO+9Uzlf9TB599FFKSkro3bs3gwYN4oILLtjq2EpLS+nXrx89evTg3HPPJWLz5tV3332XY489lv79+zNkyBAWLFiwScz9+vVj4MCBlJSUVC6/8MILmT59+lbHBySNC43pZ/DgwbElRt/6bIy+9dkt2tbqz6JFixr0+M8++2wceOCBsW7duoiIKC8vj5UrV2ba9vLLL49rrrmm1jRdunSJ8vLyatfNmDEjjjzyyLoFXI3169dnTnvKKafE/fffHxER06dPjx49elSuu+CCC+K0006LDRs2RETExIkT44ADDoiNGzfGxo0b48ADD4xbbrmlMv28efPiqaee2mT/WdPVpuL4W2r9+vXRr1+/Ta7LtGnT4uCDD4699947Nm7cWLm86ueT+5m8/PLLsffee8fixYsr47r55pu3KraIiAMOOCCee+652LhxY4wcOTKmTZu2WZoLL7wwxo0bFxERixcvjuHDh9cYc4Xly5fHiBEjqj1mdf9nwJyo4Xs163sEZvXuJw8vZNGb79frPnvv1YbLj655mIxVq1bRtm1bdtxxRwDatm1buW727Nmcd955rFmzhh133JEnnniC0tJSrr32Wh555JFN9nP77bfz4IMP8uCDD3LmmWdy1FFH8eabb/Lmm28ybNgw2rZty4wZM2qMY82aNZxzzjksWLCA9evXM27cOEaNGsXy5cs5+eSTWbMmeW/zxhtv5OCDD2bmzJlceumlfPazn+WVV15hwoQJjBs3jrZt27JgwQIGDx7MPffcU2v98EEHHcTKlSsBWLt2Lb/97W957bXXaNGiBQDf/va3mThxItOnT0cSLVu25Lvf/W7l9gMGDNhsnzNmzKgx3cyZMze5dmeffTYlJSWceuqpdO3alTFjxvCXv/yF0aNH8+CDDzJr1iwAli9fztFHH83LL79MaWkp559/Ph9++CFt27blzjvvpH379pvEMH36dPbff3+23/7Tr7N7772X8847j1tuuYXnnnuOgw8+uMbrUuHqq6/m4osvZt999wWgRYsWnHnmmXm3q82qVat4//33OfDAAwH41re+xUMPPcThhx++SbpFixZVll723Xdfli9fzj/+8Q/23HPPGvfdpUsXVq9ezVtvvcXnP//5rYpzi7qhNmusDjvsMN544w322WcfzjrrLJ588kkgqSYZM2YM1113HS+99BKPP/44O+20U7X7uPHGG3nkkUd46KGHNklz7rnnstdeezFjxoxaMwFIqqeGDx/OrFmzmDFjBhdddBFr1qxhjz324C9/+Qtz585l8uTJldVSAHPnzuW6666rrHZ58cUXGT9+PIsWLWLZsmU888wztR7zT3/6E1//+tcBWLp0KZ07d6ZNmzabpCkpKWHhwoWVmUs+WdNVZ/fdd2fu3LmMHTuWjz/+mNdeew2AyZMnM2bMGNavX88555zDAw88QGlpKaeddhoXX3zxZvt55plnNolh3bp1PP744xx99NGceOKJ3HvvvZniyXouM2bMYODAgZv9VJfZrFy5ko4dO1bOd+zYsTIzzjVgwAAefDB5P3fWrFm8/vrrldV0kjjssMMYPHgwEyZM2GS7/fffP+/nnoVLBNZgartzL5Rdd92V0tJSnn76aWbMmMGYMWO46qqrGDx4MO3bt+eAAw4A2OwLssKkSZPo1KkTDz30UJ1e2Knqz3/+M1OnTq1sc1i3bh0rVqxgr7324uyzz2bevHm0aNFik7r2IUOGbPJs+JAhQyq/ZAYOHMjy5cs55JBDNjvWRRddxI9//GPKysp47rnntjjm+jZmzJjK6dGjRzN58mTGjh3L5MmTmTx5MkuWLGHBggWMGDECgE8++WSz0gAkd9377bdf5fwjjzzCsGHD2GmnnTjuuOO48sorGT9+PC1atKi2xFTXp2yGDRvGvHnz6rRNPmPHjuW8885j4MCB9OvXj0GDBlWW1P7617/SoUMH3n77bUaMGMG+++7LoYceCsAee+zBm29u/YgABc0IJI0EriN5Me2OiLiqyvodgUnAYJIuLMZExPJCxmTWokULhg4dytChQ+nXrx933XVX5rvafv36MW/evEwv7EyZMoWf/OQnANxxxx2brIsI/vjHP9KrV69Nlo8bN44999yTl156iY0bN9KqVavKdbvssssmaSuqtyrOacOGDdXGcc0113D88cdzww03cNppp1FaWkr37t1ZsWIFH3zwAa1bf9rLfGlpaWXj6QMPPFDr+QH06dOnxnTbb789GzdurJyv+jZ57vmMGTOGb3zjG/zHf/wHkujZsycvv/wyffr0yZt57bTTTpvs+9577+Wvf/0rXbt2BWD16tVMnz6dESNGsPvuu/Puu+9WVgn+85//rJzu06cPpaWl1VaB5ZoxYwY/+MEPNlu+88478+yzz26yrEOHDps0wJeVldGhQ4fNtm3Tpg2//e1vgeRvo1u3buy9996V+4DkS//YY49l1qxZlRnBunXraiy51kXBqobS7qtvAg4HegMnSupdJdl3gHcjogfw/4BfFioeM4AlS5bwt7/9rXJ+3rx5dOnShV69erFq1Spmz54NwAcffFDtF+ugQYO47bbbOOaYY6q9E2vdujUffPABAMceeyzz5s1j3rx5mzztAfC1r32NG264ofIJkhdffBGA9957j/bt27Pddttx991388knn9TPiZPU0W/cuJHHHnuMXXbZhVNOOYXzzz+/8hiTJk1i7dq1DB8+nOHDh/PRRx9tUhUxf/58nn766U32WVu6Ll26sGjRIj766CP+9a9/bfLEUlXdu3enRYsWXHnllZUlhV69elFeXl6ZEaxfv56FCxdutu1+++3H0qVLAXj//fd5+umnWbFiBcuXL2f58uXcdNNNldVDQ4cO5e677waSEsY999zDsGHDgKTk9POf/7yyFLZx40ZuvfXWzY5XUSKo+lM1EwBo3749bdq04fnnnycimDRpEqNGjdos3b/+9S8+/vhjILlpOPTQQ2nTpg1r1qyp/Htas2YNf/7zn+nbt2/ldq+++uom81uqkG0EQ4ClEbEsIj4G7gOqXoFRwF3p9APAV+S3jayAPvzwQ0455RR69+5N//79WbRoEePGjWOHHXZg8uTJnHPOOQwYMIARI0bU2B/SIYccwrXXXsuRRx65yaOIAGeccQYjR46s/HKpyaWXXsr69evp378/ffr04dJLLwXgrLPO4q677mLAgAG88sorm5UCtoYkLrnkEq6++moAfvGLX9CqVSv22Wcfevbsyf3338+UKVOQhCSmTJnC448/Tvfu3enTpw8/+tGPNmuUrC1dp06dGD16NH379mX06NEMGjSo1vjGjBnDPffcw+jRowHYYYcdeOCBB/jhD3/IgAEDGDhwYLVftocffjhPPfUUkJTChg8fvklpadSoUTz88MN89NFHXHrppSxdupQBAwYwaNAgevTowUknnQRA//79GT9+PCeeeCL77bcfffv2ZdmyZVt+wVM333wzp59+Oj169KB79+6VDcW33nprZUazePFi+vbtS69evXj00Ue57rrrAPjHP/7BIYccwoABAxgyZAhHHnkkI0eOBJKMcenSpZvdZGwJVdyR1DdJxwMjI+L0dP5k4AsRcXZOmgVpmrJ0/u9pmneq7OsM4AyAzp07D3799dfrHM9PHk7uJBqiXto+tXjx4k3qc83qw7HHHsvVV19Nz549GzqUopkyZQpz587lyiuv3Gxddf9nkkojotpco1E0FkfEBGACQElJyRblXM4AzJquq666ilWrVjWrjGDDhg318sIbFDYjWAl0ypnvmC6rLk2ZpO2B3Ugajc3MMuvVq9dmDe9N3Te+8Y1621ch2whmAz0ldZO0A3ACMLVKmqnAKen08cD0KFRdlW0z/BGbFc6W/H8VLCOIiA3A2cBjwGLgDxGxUNIVko5Jk/0G2F3SUuB8YGz1e7OmolWrVqxevdqZgVkBRDoeQe5jx1kUrLG4UEpKSmLOnDkNHYZtIY9QZlZYNY1Q1ugbi63paNmyZZ1GTjKzwnNfQ2ZmzZwzAjOzZs4ZgZlZM9foGosllQN1f7U40RZ4J2+qpsXn3Dz4nJuHrTnnLhHRrroVjS4j2BqS5tTUat5U+ZybB59z81Coc3bVkJlZM+eMwMysmWtuGcGE/EmaHJ9z8+Bzbh4Kcs7Nqo3AzMw219xKBGZmVoUzAjOzZq5JZgSSRkpaImmppM16NJW0o6TJ6foXJHVtgDDrVYZzPl/SIknzJT0hqUtDxFmf8p1zTrrjJIWkRv+oYZZzljQ6/awXSvp9sWOsbxn+tjtLmiHpxfTv+4iGiLO+SJoo6e10BMfq1kvS9en1mC9p/60+aEQ0qR+gBfB3YG9gB+AloHeVNGcBt6bTJwCTGzruIpzzMGDndPrM5nDOabrWwFPA80BJQ8ddhM+5J/Ai8Nl0fo+GjrsI5zwBODOd7g0sb+i4t/KcDwX2BxbUsP4I4FFAwIHAC1t7zKZYIhgCLI2IZRHxMXAfMKpKmlHAXen0A8BXJKmIMda3vOccETMiYm06+zzJiHGNWZbPGeBK4JdAU+j3Oss5/xdwU0S8CxARbxc5xvqW5ZwDaJNO7wa8WcT46l1EPAX8s5Yko4BJkXge+Iyk9ltzzKaYEXQA3siZL0uXVZsmkgF03gN2L0p0hZHlnHN9h+SOojHLe85pkblTRPxfMQMroCyf8z7APpKekfS8pJFFi64wspzzOOAkSWXANOCc4oTWYOr6/56XxyNoZiSdBJQAX27oWApJ0nbAr4FTGziUYtuepHpoKEmp7ylJ/SLiXw0ZVIGdCNwZEb+SdBBwt6S+EbGxoQNrLJpiiWAl0ClnvmO6rNo0krYnKU6uLkp0hZHlnJH0VeBi4JiI+KhIsRVKvnNuDfQFZkpaTlKXOrWRNxhn+ZzLgKkRsT4iXgNeJckYGqss5/wd4A8AEfEc0Iqkc7amKtP/e100xYxgNtBTUjdJO5A0Bk+tkmYqcEo6fTwwPdJWmEYq7zlLGgTcRpIJNPZ6Y8hzzhHxXkS0jYiuEdGVpF3kmIhozOOcZvnbfoikNICktiRVRcuKGGN9y3LOK4CvAEjajyQjKC9qlMU1FfhW+vTQgcB7EbFqa3bY5KqGImKDpLOBx0ieOJgYEQslXQHMiYipwG9Iio9LSRplTmi4iLdexnO+BtgVuD9tF18REcc0WNBbKeM5NykZz/kx4DBJi4BPgIsiotGWdjOe8wXA7ZJ+QNJwfGpjvrGTdC9JZt42bfe4HGgJEBG3krSDHAEsBdYC397qYzbi62VmZvWgKVYNmZlZHTgjMDNr5pwRmJk1c84IzMyaOWcEZmbNnDOCZkDSJ5Lm5fx0rSXth/VwvDslvZYea276tmdd93GHpN7p9I+rrHt2a2NM91NxXRZIeljSZ/KkH7glPVtKai/pkXR6qKT30uMulnT5FuzvmIpeOCV9veI6pfNXpC8ObpX0Mzw+T5qZdXlBLz33RzKkq7b3TUnXShqe9XiWnTOC5uHfETEw52d5EY55UUQMBMaSvMhWJxFxekQsSmd/XGXdwVsfHvDpdelL8j7J9/KkH0jy/HZdnQ/cnjP/dHptSkj6yKlTN8IRMTUirkpnv07S42bFussi4vEtiHFbcidQXR9JN5D8PVk9c0bQDEnaVcmYBHMlvSxps14707vYp3LumL+ULj9M0nPptvdL2jXP4Z4CeqTbnp/ua4Gk76fLdpH0f5JeSpePSZfPlFQi6SpgpzSO36XrPkx/3yfpyJyY75R0vKQWkq6RNFtJf+3/neGyPEfacZekIek5vijpWUm90rdarwDGpLGMSWOfKGlWmra63k8BjgP+VHVhRKwBSoEeaWnj+TTeKZI+m8Zyrj4dR+K+dNmpkm6UdDBwDHBNGlP3nGswUtL9Odem8m68rp+hpMvSa7lA0gRpk556T875GxmSps96XapVU++bEfE6sLukz9dlf5ZBQ/S37Z/i/pC8YTov/ZlC8kZ5m3RdW5I3FCteLvww/X0BcHE63YKk7562JF/su6TLfwhcVs3x7gSOT6e/AbwADAZeBnYhecN5ITCI5Evy9pxtd0t/zyQdP6Aippw0FTEeC9yVTu9A0iPjTsAZwCXp8h2BOUC3auL8MOf87gdGpvNtgO3T6a8Cf0ynTwVuzNn+58BJ6fRnSPr12aXKMboBpTnzQ4FH0undgeVAH2A+8OV0+RXA+HT6TWDHimNUjSP3WufOp5/xipzP6hbgpC38DD+Xs/xu4Oicz+j2dPpQ0v7za7ouVc69BLijlr/ZrlTTHz9Jyeq4hv6famo/Ta6LCavWvyOpigBAUkvg55IOBTaS3AnvCbyVs81sYGKa9qGImCfpyyTVEM+kN4U7kNxJV+caSZeQ9PnyHZK+YKZEcheMpAeBL5HcKf9K0i9JviSersN5PQpcJ2lHkqqEpyLi35IOA/rn1HHvRtLx2mtVtt9J0rz0/BcDf8lJf5ekniRdFrSs4fiHAcdIujCdbwV0TvdVoT2b93vzJUkvklz7q0g6ivtMRDyZrr+LJGOCJIP4naSHSPoRyiSSrhn+BBwt6QHgSOB/SHqdzfoZVhgm6X+AnYHPkWTiD6fr7k2P95SkNkraWWq6LrnxzQFOz3o+Od4G9tqC7awWzgiap/8E2gGDI2K9kt45W+UmSP+xDyX5ArlT0q+Bd4G/RMSJGY5xUUQ8UDEj6SvVJYqIV9M68iOAn0p6IiKuyHISEbFO0kzga8AYkkFLIBm56ZyIeCzPLv4dEQMl7UzSl833gOtJBrOZERHHKmlYn1nD9iK5O11S2zGocm1J2giOqtyJtFst2x9Jcrd9NHCxpH61pK3qPuBskmqWORHxQVqtk/UzRFIr4GaS0tkbksax6flU7aMmqOG6SNqzDrHXpBXJNbV65DaC5mk34O00ExgGbDZ+sZIxjf8REbcDd5AMnfc88EVJFXX+u0jaJ+Mxnwa+LmlnSbuQVOs8LWkvYG1E3EPSMV51Dafr05JJdSaTdLpVUbqA5Ev9zIptJO2THrNakYzcdi5wgT7tlryiW99Tc5J+QFJFVuEx4JyKOnMlPbxW9SpJNUeNIuI94F2l7TDAycCTSsZU6BQRM0iqcHYjqVbLVTWmXE+SXM//4tNMsq6fYcWX/jtpW0LVJ4kq2nQOIekF8z2yXZcttQ9Q7Vi+tuWcETRPvwNKJL0MfAt4pZo0Q4GX0iqMMcB1EVFO8sV4r6T5JFUK+2Y5YETMJal3nkXSZnBHRLwI9ANmpVU0lwM/rWbzCcB8pY3FVfyZpLrj8UiGMoQk41oEzFXyCOJt5Cn9prHMJxnk5GrgF+m55243A+hd0VhMUnJomca2MJ2vut81wN8rvnhrcQpJddp8kqeTriBpu7gn/ZxeBK6PzQeYuQ+4KG2U7V7l2J8AjwCHp7+p62eYHu92ki/fx0iqDHOtS6/TrSRVgJDhuih5EOCO6o6ppPfN54BeksokfSdd3pLkwYPG3JX4Nsm9j5oVmKRjSarhLmnoWBqz9DruHxGXNnQsTY3bCMwKLCKmSGrMY2JvK7YHftXQQTRFLhGYmTVzbiMwM2vmnBGYmTVzzgjMzJo5ZwRmZs2cMwIzs2bu/wNgSH3omERLNAAAAABJRU5ErkJggg==\n",
       "datasetInfos": [],
       "metadata": {},
       "removedWidgets": [],
       "type": "image"
      }
     },
     "output_type": "display_data"
    },
    {
     "output_type": "stream",
     "name": "stdout",
     "output_type": "stream",
     "text": [
      "Model run:  eda2c5fd46e84af28601a4535b8f8b0e\n"
     ]
    },
    {
     "output_type": "display_data",
     "data": {
      "image/png": "[encoded data removed]"
     },
     "metadata": {
      "application/vnd.databricks.v1+output": {
       "addedWidgets": {},
       "arguments": {},
       "data": "data:image/png;base64,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\n",
       "datasetInfos": [],
       "metadata": {},
       "removedWidgets": [],
       "type": "image"
      }
     },
     "output_type": "display_data"
    }
   ],
   "source": [
    "from sklearn.svm import SVC\n",
    "svm_model = SVC(random_state=None)\n",
    "\n",
    "# Set up your MLflow experiment\n",
    "mlflow.set_experiment(\"/Users/ismailyassine04@gmail.com/scikit_learn_experiment1\")\n",
    "\n",
    "# Start an MLflow run\n",
    "with mlflow.start_run():\n",
    "    train(svm_model, x_train, y_train)\n",
    "    evaluate(svm_model, x_test, y_test)\n",
    "    mlflow.sklearn.log_model(svm_model, \"svm_model\")\n",
    "    print(\"Model run: \", mlflow.active_run().info.run_uuid)\n",
    "\n",
    "mlflow.end_run()\n"
   ]
  },
  {
   "cell_type": "code",
   "execution_count": 0,
   "metadata": {
    "application/vnd.databricks.v1+cell": {
     "cellMetadata": {
      "byteLimit": 2048000,
      "rowLimit": 10000
     },
     "inputWidgets": {},
     "nuid": "798897b4-13c2-4f63-a4fe-4e6286d53129",
     "showTitle": false,
     "title": ""
    }
   },
   "outputs": [
    {
     "output_type": "stream",
     "name": "stdout",
     "output_type": "stream",
     "text": [
      "Train Accuracy: 100.000%\nAuc Score: 89.385%\nEval Accuracy: 99.909%\n"
     ]
    },
    {
     "output_type": "stream",
     "name": "stderr",
     "output_type": "stream",
     "text": [
      "/databricks/python/lib/python3.9/site-packages/sklearn/utils/deprecation.py:87: FutureWarning: Function plot_roc_curve is deprecated; Function :func:`plot_roc_curve` is deprecated in 1.0 and will be removed in 1.2. Use one of the class methods: :meth:`sklearn.metric.RocCurveDisplay.from_predictions` or :meth:`sklearn.metric.RocCurveDisplay.from_estimator`.\n  warnings.warn(msg, category=FutureWarning)\n"
     ]
    },
    {
     "output_type": "display_data",
     "data": {
      "image/png": "[encoded data removed]"
     },
     "metadata": {
      "application/vnd.databricks.v1+output": {
       "addedWidgets": {},
       "arguments": {},
       "data": "data:image/png;base64,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\n",
       "datasetInfos": [],
       "metadata": {},
       "removedWidgets": [],
       "type": "image"
      }
     },
     "output_type": "display_data"
    },
    {
     "output_type": "stream",
     "name": "stdout",
     "output_type": "stream",
     "text": [
      "Model run:  4d995f317c49472b989fa5ae3acf33eb\n"
     ]
    },
    {
     "output_type": "display_data",
     "data": {
      "image/png": "[encoded data removed]"
     },
     "metadata": {
      "application/vnd.databricks.v1+output": {
       "addedWidgets": {},
       "arguments": {},
       "data": "data:image/png;base64,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\n",
       "datasetInfos": [],
       "metadata": {},
       "removedWidgets": [],
       "type": "image"
      }
     },
     "output_type": "display_data"
    }
   ],
   "source": [
    "from sklearn.ensemble import RandomForestClassifier\n",
    "\n",
    "rf_model = RandomForestClassifier(random_state=None)\n",
    "\n",
    "mlflow.set_experiment(\"/Users/ismailyassine04@gmail.com/scikit_learn_experiment1\")\n",
    "with mlflow.start_run():\n",
    "    train(rf_model, x_train, y_train)\n",
    "    evaluate(rf_model, x_test, y_test)\n",
    "    mlflow.sklearn.log_model(rf_model, \"random_forest_model\")\n",
    "    print(\"Model run: \", mlflow.active_run().info.run_uuid)\n",
    "\n",
    "# End the MLflow run\n",
    "mlflow.end_run()\n"
   ]
  },
  {
   "cell_type": "code",
   "execution_count": 0,
   "metadata": {
    "application/vnd.databricks.v1+cell": {
     "cellMetadata": {},
     "inputWidgets": {},
     "nuid": "efeb6312-98ef-4b11-b852-7ffec55e2621",
     "showTitle": false,
     "title": ""
    }
   },
   "outputs": [],
   "source": []
  }
 ],
 "metadata": {
  "application/vnd.databricks.v1+notebook": {
   "dashboards": [],
   "language": "python",
   "notebookMetadata": {
    "pythonIndentUnit": 2
   },
   "notebookName": "5. MLflow-DataBricks",
   "widgets": {}
  },
  "kernelspec": {
   "display_name": "Python 3 (ipykernel)",
   "language": "python",
   "name": "python3"
  },
  "language_info": {
   "codemirror_mode": {
    "name": "ipython",
    "version": 3
   },
   "file_extension": ".py",
   "mimetype": "text/x-python",
   "name": "python",
   "nbconvert_exporter": "python",
   "pygments_lexer": "ipython3",
   "version": "3.7.13"
  }
 },
 "nbformat": 4,
 "nbformat_minor": 0
}
